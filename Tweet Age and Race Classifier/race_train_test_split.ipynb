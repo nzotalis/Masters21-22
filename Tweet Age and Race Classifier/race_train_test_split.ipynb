{
 "cells": [
  {
   "cell_type": "code",
   "execution_count": 65,
   "id": "c7d8cc06-083a-4523-ad89-83d926cd52ab",
   "metadata": {},
   "outputs": [],
   "source": [
    "import pandas as pd\n",
    "from sklearn.model_selection import train_test_split"
   ]
  },
  {
   "cell_type": "code",
   "execution_count": 66,
   "id": "70c49853-2fc3-45c3-b4b5-71d06793a253",
   "metadata": {},
   "outputs": [],
   "source": [
    "import json\n",
    "with open(\"User demo profiles.json\", encoding=\"utf8\") as file:\n",
    "    text = file.read()\n",
    "    profiles = json.loads(text)\n",
    "\n",
    "profile_dict = {}\n",
    "for profile in profiles:\n",
    "    profile_dict[profile['id']] = profile['name']"
   ]
  },
  {
   "cell_type": "code",
   "execution_count": 67,
   "id": "2ec5f9ae-9a02-462f-867a-f41bbdc49199",
   "metadata": {},
   "outputs": [],
   "source": [
    "profiles = pd.read_csv(\"labeled_users.csv\")\n",
    "profiles = profiles[profiles[\"race\"] != 5]\n",
    "profiles = profiles[profiles[\"race\"].notna()]\n",
    "profiles[\"race\"] -= 1\n",
    "\n",
    "profiles.replace({\"user_id\": profile_dict}, inplace=True)"
   ]
  },
  {
   "cell_type": "code",
   "execution_count": 68,
   "id": "1bcbe05e-b7c3-4de3-b3cf-fc35a0857e26",
   "metadata": {},
   "outputs": [
    {
     "data": {
      "text/html": [
       "<div>\n",
       "<style scoped>\n",
       "    .dataframe tbody tr th:only-of-type {\n",
       "        vertical-align: middle;\n",
       "    }\n",
       "\n",
       "    .dataframe tbody tr th {\n",
       "        vertical-align: top;\n",
       "    }\n",
       "\n",
       "    .dataframe thead th {\n",
       "        text-align: right;\n",
       "    }\n",
       "</style>\n",
       "<table border=\"1\" class=\"dataframe\">\n",
       "  <thead>\n",
       "    <tr style=\"text-align: right;\">\n",
       "      <th></th>\n",
       "      <th>user_id</th>\n",
       "      <th>is_female</th>\n",
       "      <th>year_born</th>\n",
       "      <th>race</th>\n",
       "    </tr>\n",
       "  </thead>\n",
       "  <tbody>\n",
       "    <tr>\n",
       "      <th>0</th>\n",
       "      <td>Chad Boyce</td>\n",
       "      <td>0.0</td>\n",
       "      <td>1980.0</td>\n",
       "      <td>3.0</td>\n",
       "    </tr>\n",
       "    <tr>\n",
       "      <th>1</th>\n",
       "      <td>Tomato 😷</td>\n",
       "      <td>0.0</td>\n",
       "      <td>1985.0</td>\n",
       "      <td>3.0</td>\n",
       "    </tr>\n",
       "    <tr>\n",
       "      <th>2</th>\n",
       "      <td>blank</td>\n",
       "      <td>1.0</td>\n",
       "      <td>1973.0</td>\n",
       "      <td>2.0</td>\n",
       "    </tr>\n",
       "    <tr>\n",
       "      <th>4</th>\n",
       "      <td>755531.0</td>\n",
       "      <td>0.0</td>\n",
       "      <td>1982.0</td>\n",
       "      <td>3.0</td>\n",
       "    </tr>\n",
       "    <tr>\n",
       "      <th>5</th>\n",
       "      <td>Mr.O</td>\n",
       "      <td>0.0</td>\n",
       "      <td>1987.0</td>\n",
       "      <td>2.0</td>\n",
       "    </tr>\n",
       "    <tr>\n",
       "      <th>...</th>\n",
       "      <td>...</td>\n",
       "      <td>...</td>\n",
       "      <td>...</td>\n",
       "      <td>...</td>\n",
       "    </tr>\n",
       "    <tr>\n",
       "      <th>4127</th>\n",
       "      <td>706000000000000000.0</td>\n",
       "      <td>0.0</td>\n",
       "      <td>1997.0</td>\n",
       "      <td>3.0</td>\n",
       "    </tr>\n",
       "    <tr>\n",
       "      <th>4128</th>\n",
       "      <td>706000000000000000.0</td>\n",
       "      <td>0.0</td>\n",
       "      <td>1991.0</td>\n",
       "      <td>3.0</td>\n",
       "    </tr>\n",
       "    <tr>\n",
       "      <th>4129</th>\n",
       "      <td>718000000000000000.0</td>\n",
       "      <td>1.0</td>\n",
       "      <td>1988.0</td>\n",
       "      <td>1.0</td>\n",
       "    </tr>\n",
       "    <tr>\n",
       "      <th>4130</th>\n",
       "      <td>719000000000000000.0</td>\n",
       "      <td>1.0</td>\n",
       "      <td>1986.0</td>\n",
       "      <td>0.0</td>\n",
       "    </tr>\n",
       "    <tr>\n",
       "      <th>4131</th>\n",
       "      <td>739000000000000000.0</td>\n",
       "      <td>0.0</td>\n",
       "      <td>1988.0</td>\n",
       "      <td>3.0</td>\n",
       "    </tr>\n",
       "  </tbody>\n",
       "</table>\n",
       "<p>3939 rows × 4 columns</p>\n",
       "</div>"
      ],
      "text/plain": [
       "                   user_id  is_female  year_born  race\n",
       "0               Chad Boyce        0.0     1980.0   3.0\n",
       "1                 Tomato 😷        0.0     1985.0   3.0\n",
       "2                    blank        1.0     1973.0   2.0\n",
       "4                 755531.0        0.0     1982.0   3.0\n",
       "5                     Mr.O        0.0     1987.0   2.0\n",
       "...                    ...        ...        ...   ...\n",
       "4127  706000000000000000.0        0.0     1997.0   3.0\n",
       "4128  706000000000000000.0        0.0     1991.0   3.0\n",
       "4129  718000000000000000.0        1.0     1988.0   1.0\n",
       "4130  719000000000000000.0        1.0     1986.0   0.0\n",
       "4131  739000000000000000.0        0.0     1988.0   3.0\n",
       "\n",
       "[3939 rows x 4 columns]"
      ]
     },
     "execution_count": 68,
     "metadata": {},
     "output_type": "execute_result"
    }
   ],
   "source": [
    "profiles"
   ]
  },
  {
   "cell_type": "code",
   "execution_count": 69,
   "id": "083f5df9-3e4f-4277-85b2-989f70558737",
   "metadata": {},
   "outputs": [],
   "source": [
    "train_profiles, test_profiles, train_labels, test_labels = train_test_split(profiles[\"user_id\"], profiles[\"race\"], test_size = .15, random_state = 0)"
   ]
  },
  {
   "cell_type": "code",
   "execution_count": 70,
   "id": "e62882e2-04bf-4498-9e56-dab9461a6952",
   "metadata": {},
   "outputs": [
    {
     "data": {
      "text/plain": [
       "((3348,), (591,), (3348,), (591,))"
      ]
     },
     "execution_count": 70,
     "metadata": {},
     "output_type": "execute_result"
    }
   ],
   "source": [
    "train_profiles.shape, test_profiles.shape, train_labels.shape, test_labels.shape"
   ]
  },
  {
   "cell_type": "code",
   "execution_count": 71,
   "id": "e577446a-6130-4329-b98b-0d7407a3928d",
   "metadata": {},
   "outputs": [
    {
     "data": {
      "text/plain": [
       "3.0    2709\n",
       "0.0     310\n",
       "1.0     206\n",
       "2.0     123\n",
       "Name: race, dtype: int64"
      ]
     },
     "execution_count": 71,
     "metadata": {},
     "output_type": "execute_result"
    }
   ],
   "source": [
    "train_labels.value_counts()"
   ]
  },
  {
   "cell_type": "code",
   "execution_count": 72,
   "id": "762ca37e-2291-4834-8de5-3fcf96583f1e",
   "metadata": {},
   "outputs": [
    {
     "data": {
      "text/plain": [
       "3.0    475\n",
       "0.0     64\n",
       "1.0     35\n",
       "2.0     17\n",
       "Name: race, dtype: int64"
      ]
     },
     "execution_count": 72,
     "metadata": {},
     "output_type": "execute_result"
    }
   ],
   "source": [
    "test_labels.value_counts()"
   ]
  },
  {
   "cell_type": "code",
   "execution_count": 73,
   "id": "0f8e73ec-2dca-4292-b56d-0f51debca67d",
   "metadata": {},
   "outputs": [],
   "source": [
    "train_df = pd.DataFrame({\"Name\": train_profiles, \"race\": train_labels})\n",
    "train_df.to_csv(\"race_train.csv\", index=False)"
   ]
  },
  {
   "cell_type": "code",
   "execution_count": 74,
   "id": "5109ee8b-a03e-4ddc-ba09-3be5f9971e4b",
   "metadata": {},
   "outputs": [],
   "source": [
    "test_df = pd.DataFrame({\"Name\": test_profiles, \"race\": test_labels})\n",
    "test_df.to_csv(\"race_test.csv\", index=False)"
   ]
  }
 ],
 "metadata": {
  "kernelspec": {
   "display_name": "Python 3 (ipykernel)",
   "language": "python",
   "name": "python3"
  },
  "language_info": {
   "codemirror_mode": {
    "name": "ipython",
    "version": 3
   },
   "file_extension": ".py",
   "mimetype": "text/x-python",
   "name": "python",
   "nbconvert_exporter": "python",
   "pygments_lexer": "ipython3",
   "version": "3.8.11"
  }
 },
 "nbformat": 4,
 "nbformat_minor": 5
}
