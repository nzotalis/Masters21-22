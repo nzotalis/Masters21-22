{
 "cells": [
  {
   "cell_type": "code",
   "execution_count": 1,
   "id": "6e2a83fa-c2d0-4ff8-9b81-38efe9b9c979",
   "metadata": {},
   "outputs": [],
   "source": [
    "#!pip install tensorflow\n",
    "import pandas as pd\n",
    "import json\n",
    "import imageio\n",
    "import numpy as np\n",
    "import tensorflow as tf\n",
    "import tensorflow.keras as keras"
   ]
  },
  {
   "cell_type": "code",
   "execution_count": 2,
   "id": "096a1204-368e-43c7-aac5-7f9367162c61",
   "metadata": {},
   "outputs": [
    {
     "data": {
      "text/plain": [
       "3.0    3184\n",
       "0.0     374\n",
       "1.0     241\n",
       "2.0     140\n",
       "Name: race, dtype: int64"
      ]
     },
     "execution_count": 2,
     "metadata": {},
     "output_type": "execute_result"
    }
   ],
   "source": [
    "users = pd.read_csv(\"labeled_users.csv\")\n",
    "#users.dropna(inplace=True)\n",
    "users = users[users['race'].notna()]\n",
    "users = users[users['race'] != 5]\n",
    "users['race'] -= 1\n",
    "raceDict = users.set_index('user_id').to_dict()['race']\n",
    "users['race'].value_counts()"
   ]
  },
  {
   "cell_type": "code",
   "execution_count": 3,
   "id": "f4c58fb5-27a1-4c44-adda-9fd51f12c772",
   "metadata": {},
   "outputs": [],
   "source": [
    "with open(\"User demo profiles.json\", encoding=\"utf8\") as file:\n",
    "    text = file.read()\n",
    "    profiles = json.loads(text)"
   ]
  },
  {
   "cell_type": "code",
   "execution_count": 4,
   "id": "d55512dd-c7c8-412b-8e01-e7e05ec677cc",
   "metadata": {},
   "outputs": [],
   "source": [
    "pics = []\n",
    "labels = []\n",
    "for profile in profiles:\n",
    "    id = profile['id']\n",
    "    if id in raceDict:\n",
    "        path = profile['img_path']\n",
    "        try:\n",
    "            im = imageio.imread(path)\n",
    "            pics.append(im)\n",
    "            race = raceDict[id]\n",
    "            labels.append(race)\n",
    "        except FileNotFoundError:\n",
    "            continue\n",
    "pics = np.array(pics)\n",
    "labels = np.array(labels)"
   ]
  },
  {
   "cell_type": "code",
   "execution_count": 5,
   "id": "3e60523e-af08-4e37-97ad-639dbaa5530a",
   "metadata": {},
   "outputs": [
    {
     "data": {
      "text/plain": [
       "((3356, 224, 224, 3), (3356,))"
      ]
     },
     "execution_count": 5,
     "metadata": {},
     "output_type": "execute_result"
    }
   ],
   "source": [
    "pics.shape, labels.shape"
   ]
  },
  {
   "cell_type": "code",
   "execution_count": 6,
   "id": "0c0fe017-39f7-4fbc-8e6c-a79a6608e518",
   "metadata": {},
   "outputs": [],
   "source": [
    "from sklearn.model_selection import train_test_split\n",
    "x_train, x_test, y_train, y_test = train_test_split(pics, labels, test_size=.2)"
   ]
  },
  {
   "cell_type": "code",
   "execution_count": 7,
   "id": "d703cda4-d3b1-4346-a31e-0b242f77cd40",
   "metadata": {},
   "outputs": [
    {
     "name": "stdout",
     "output_type": "stream",
     "text": [
      "Model: \"sequential\"\n",
      "_________________________________________________________________\n",
      " Layer (type)                Output Shape              Param #   \n",
      "=================================================================\n",
      " conv2d (Conv2D)             (None, 222, 222, 3)       84        \n",
      "                                                                 \n",
      " dropout (Dropout)           (None, 222, 222, 3)       0         \n",
      "                                                                 \n",
      " flatten (Flatten)           (None, 147852)            0         \n",
      "                                                                 \n",
      " dense (Dense)               (None, 20)                2957060   \n",
      "                                                                 \n",
      " dense_1 (Dense)             (None, 4)                 84        \n",
      "                                                                 \n",
      "=================================================================\n",
      "Total params: 2,957,228\n",
      "Trainable params: 2,957,228\n",
      "Non-trainable params: 0\n",
      "_________________________________________________________________\n"
     ]
    }
   ],
   "source": [
    "model = keras.Sequential()\n",
    "\n",
    "model.add(keras.layers.Conv2D(filters=3, kernel_size=(3,3), activation='relu', input_shape=(224,224,3)))\n",
    "model.add(keras.layers.Dropout(.25))\n",
    "model.add(keras.layers.Flatten())\n",
    "model.add(keras.layers.Dense(20, activation='relu'))\n",
    "model.add(keras.layers.Dense(4, activation='softmax'))\n",
    "model.summary()\n",
    "model.compile(optimizer='adam', loss='sparse_categorical_crossentropy', metrics=['accuracy'])"
   ]
  },
  {
   "cell_type": "code",
   "execution_count": 8,
   "id": "eaebb786-73f0-4e3e-8bc9-f135cb6361aa",
   "metadata": {},
   "outputs": [
    {
     "name": "stdout",
     "output_type": "stream",
     "text": [
      "Epoch 1/10\n",
      "84/84 [==============================] - 10s 114ms/step - loss: 464.5280 - accuracy: 0.6751\n",
      "Epoch 2/10\n",
      "84/84 [==============================] - 10s 120ms/step - loss: 1.2851 - accuracy: 0.8163\n",
      "Epoch 3/10\n",
      "84/84 [==============================] - 12s 137ms/step - loss: 1.2022 - accuracy: 0.8163\n",
      "Epoch 4/10\n",
      "84/84 [==============================] - 11s 133ms/step - loss: 1.1284 - accuracy: 0.8163\n",
      "Epoch 5/10\n",
      "84/84 [==============================] - 11s 136ms/step - loss: 1.0630 - accuracy: 0.8163\n",
      "Epoch 6/10\n",
      "84/84 [==============================] - 11s 137ms/step - loss: 1.0053 - accuracy: 0.8163\n",
      "Epoch 7/10\n",
      "84/84 [==============================] - 12s 140ms/step - loss: 0.9549 - accuracy: 0.8163\n",
      "Epoch 8/10\n",
      "84/84 [==============================] - 11s 134ms/step - loss: 0.9109 - accuracy: 0.8163\n",
      "Epoch 9/10\n",
      "84/84 [==============================] - 11s 132ms/step - loss: 0.8730 - accuracy: 0.8163\n",
      "Epoch 10/10\n",
      "84/84 [==============================] - 11s 131ms/step - loss: 0.8404 - accuracy: 0.8163\n"
     ]
    },
    {
     "data": {
      "text/plain": [
       "<keras.callbacks.History at 0x226d1d2dac0>"
      ]
     },
     "execution_count": 8,
     "metadata": {},
     "output_type": "execute_result"
    }
   ],
   "source": [
    "model.fit(x_train, y_train, epochs=10)"
   ]
  },
  {
   "cell_type": "code",
   "execution_count": 10,
   "id": "8dad48e0-fedb-4936-8f01-20b7aa369715",
   "metadata": {},
   "outputs": [
    {
     "name": "stdout",
     "output_type": "stream",
     "text": [
      "              precision    recall  f1-score   support\n",
      "\n",
      "         0.0       0.00      0.00      0.00        70\n",
      "         1.0       0.00      0.00      0.00        41\n",
      "         2.0       0.00      0.00      0.00        26\n",
      "         3.0       0.80      1.00      0.89       535\n",
      "\n",
      "    accuracy                           0.80       672\n",
      "   macro avg       0.20      0.25      0.22       672\n",
      "weighted avg       0.63      0.80      0.71       672\n",
      "\n"
     ]
    },
    {
     "name": "stderr",
     "output_type": "stream",
     "text": [
      "C:\\Users\\Nick\\anaconda3\\lib\\site-packages\\sklearn\\metrics\\_classification.py:1248: UndefinedMetricWarning: Precision and F-score are ill-defined and being set to 0.0 in labels with no predicted samples. Use `zero_division` parameter to control this behavior.\n",
      "  _warn_prf(average, modifier, msg_start, len(result))\n",
      "C:\\Users\\Nick\\anaconda3\\lib\\site-packages\\sklearn\\metrics\\_classification.py:1248: UndefinedMetricWarning: Precision and F-score are ill-defined and being set to 0.0 in labels with no predicted samples. Use `zero_division` parameter to control this behavior.\n",
      "  _warn_prf(average, modifier, msg_start, len(result))\n",
      "C:\\Users\\Nick\\anaconda3\\lib\\site-packages\\sklearn\\metrics\\_classification.py:1248: UndefinedMetricWarning: Precision and F-score are ill-defined and being set to 0.0 in labels with no predicted samples. Use `zero_division` parameter to control this behavior.\n",
      "  _warn_prf(average, modifier, msg_start, len(result))\n"
     ]
    }
   ],
   "source": [
    "from sklearn.metrics import classification_report\n",
    "y_pred = np.argmax(model.predict(x_test), axis = 1)\n",
    "print(classification_report(y_test, y_pred))"
   ]
  },
  {
   "cell_type": "code",
   "execution_count": 36,
   "id": "6cf12145",
   "metadata": {},
   "outputs": [
    {
     "name": "stdout",
     "output_type": "stream",
     "text": [
      "Model: \"sequential_4\"\n",
      "_________________________________________________________________\n",
      " Layer (type)                Output Shape              Param #   \n",
      "=================================================================\n",
      " conv2d_4 (Conv2D)           (None, 222, 222, 3)       84        \n",
      "                                                                 \n",
      " dropout_4 (Dropout)         (None, 222, 222, 3)       0         \n",
      "                                                                 \n",
      " flatten_4 (Flatten)         (None, 147852)            0         \n",
      "                                                                 \n",
      " dense_8 (Dense)             (None, 20)                2957060   \n",
      "                                                                 \n",
      " dense_9 (Dense)             (None, 4)                 84        \n",
      "                                                                 \n",
      "=================================================================\n",
      "Total params: 2,957,228\n",
      "Trainable params: 2,957,228\n",
      "Non-trainable params: 0\n",
      "_________________________________________________________________\n",
      "------------------------------------------------------------------------\n",
      "Training for fold 1 ...\n",
      "Epoch 1/10\n",
      "82/82 [==============================] - 11s 127ms/step - loss: 695.6056 - accuracy: 0.6793\n",
      "Epoch 2/10\n",
      "82/82 [==============================] - 10s 123ms/step - loss: 17.2720 - accuracy: 0.7495\n",
      "Epoch 3/10\n",
      "82/82 [==============================] - 10s 125ms/step - loss: 4.8812 - accuracy: 0.8389\n",
      "Epoch 4/10\n",
      "82/82 [==============================] - 10s 124ms/step - loss: 1.6257 - accuracy: 0.9122\n",
      "Epoch 5/10\n",
      "82/82 [==============================] - 10s 124ms/step - loss: 1.4084 - accuracy: 0.9374\n",
      "Epoch 6/10\n",
      "82/82 [==============================] - 10s 123ms/step - loss: 0.7231 - accuracy: 0.9465\n",
      "Epoch 7/10\n",
      "82/82 [==============================] - 10s 125ms/step - loss: 0.7638 - accuracy: 0.9614\n",
      "Epoch 8/10\n",
      "82/82 [==============================] - 10s 126ms/step - loss: 0.8305 - accuracy: 0.9599\n",
      "Epoch 9/10\n",
      "82/82 [==============================] - 10s 125ms/step - loss: 0.6138 - accuracy: 0.9614\n",
      "Epoch 10/10\n",
      "82/82 [==============================] - 10s 122ms/step - loss: 0.7994 - accuracy: 0.9664\n",
      "Score for fold 1: loss of 21.95868682861328; accuracy of 70.68702578544617%\n",
      "Model: \"sequential_5\"\n",
      "_________________________________________________________________\n",
      " Layer (type)                Output Shape              Param #   \n",
      "=================================================================\n",
      " conv2d_5 (Conv2D)           (None, 222, 222, 3)       84        \n",
      "                                                                 \n",
      " dropout_5 (Dropout)         (None, 222, 222, 3)       0         \n",
      "                                                                 \n",
      " flatten_5 (Flatten)         (None, 147852)            0         \n",
      "                                                                 \n",
      " dense_10 (Dense)            (None, 20)                2957060   \n",
      "                                                                 \n",
      " dense_11 (Dense)            (None, 4)                 84        \n",
      "                                                                 \n",
      "=================================================================\n",
      "Total params: 2,957,228\n",
      "Trainable params: 2,957,228\n",
      "Non-trainable params: 0\n",
      "_________________________________________________________________\n",
      "------------------------------------------------------------------------\n",
      "Training for fold 2 ...\n",
      "Epoch 1/10\n",
      "82/82 [==============================] - 10s 123ms/step - loss: 51.5187 - accuracy: 0.7174\n",
      "Epoch 2/10\n",
      "82/82 [==============================] - 10s 127ms/step - loss: 1.2727 - accuracy: 0.8148\n",
      "Epoch 3/10\n",
      "82/82 [==============================] - 10s 126ms/step - loss: 1.1935 - accuracy: 0.8148\n",
      "Epoch 4/10\n",
      "82/82 [==============================] - 10s 125ms/step - loss: 1.1227 - accuracy: 0.8148\n",
      "Epoch 5/10\n",
      "82/82 [==============================] - 10s 125ms/step - loss: 1.0596 - accuracy: 0.8148\n",
      "Epoch 6/10\n",
      "82/82 [==============================] - 10s 122ms/step - loss: 1.0039 - accuracy: 0.8148\n",
      "Epoch 7/10\n",
      "82/82 [==============================] - 10s 122ms/step - loss: 0.9549 - accuracy: 0.8148\n",
      "Epoch 8/10\n",
      "82/82 [==============================] - 10s 122ms/step - loss: 0.9125 - accuracy: 0.8148\n",
      "Epoch 9/10\n",
      "82/82 [==============================] - 10s 126ms/step - loss: 0.8756 - accuracy: 0.8148\n",
      "Epoch 10/10\n",
      "82/82 [==============================] - 10s 125ms/step - loss: 0.8437 - accuracy: 0.8148\n",
      "Score for fold 2: loss of 0.8361833095550537; accuracy of 80.91602921485901%\n",
      "Model: \"sequential_6\"\n",
      "_________________________________________________________________\n",
      " Layer (type)                Output Shape              Param #   \n",
      "=================================================================\n",
      " conv2d_6 (Conv2D)           (None, 222, 222, 3)       84        \n",
      "                                                                 \n",
      " dropout_6 (Dropout)         (None, 222, 222, 3)       0         \n",
      "                                                                 \n",
      " flatten_6 (Flatten)         (None, 147852)            0         \n",
      "                                                                 \n",
      " dense_12 (Dense)            (None, 20)                2957060   \n",
      "                                                                 \n",
      " dense_13 (Dense)            (None, 4)                 84        \n",
      "                                                                 \n",
      "=================================================================\n",
      "Total params: 2,957,228\n",
      "Trainable params: 2,957,228\n",
      "Non-trainable params: 0\n",
      "_________________________________________________________________\n",
      "------------------------------------------------------------------------\n",
      "Training for fold 3 ...\n",
      "Epoch 1/10\n",
      "82/82 [==============================] - 11s 132ms/step - loss: 627.8839 - accuracy: 0.7449\n",
      "Epoch 2/10\n",
      "82/82 [==============================] - 10s 126ms/step - loss: 1.3764 - accuracy: 0.8171\n",
      "Epoch 3/10\n",
      "82/82 [==============================] - 11s 131ms/step - loss: 1.2115 - accuracy: 0.8171\n",
      "Epoch 4/10\n",
      "82/82 [==============================] - 10s 125ms/step - loss: 1.1387 - accuracy: 0.8171\n",
      "Epoch 5/10\n",
      "82/82 [==============================] - 10s 123ms/step - loss: 1.0745 - accuracy: 0.8171\n",
      "Epoch 6/10\n",
      "82/82 [==============================] - 11s 129ms/step - loss: 1.0174 - accuracy: 0.8171\n",
      "Epoch 7/10\n",
      "82/82 [==============================] - 10s 128ms/step - loss: 0.9667 - accuracy: 0.8171\n",
      "Epoch 8/10\n",
      "82/82 [==============================] - 10s 127ms/step - loss: 0.9223 - accuracy: 0.8171\n",
      "Epoch 9/10\n",
      "82/82 [==============================] - 10s 126ms/step - loss: 0.8838 - accuracy: 0.8171\n",
      "Epoch 10/10\n",
      "82/82 [==============================] - 10s 125ms/step - loss: 0.8508 - accuracy: 0.8171\n",
      "Score for fold 3: loss of 0.8970690965652466; accuracy of 80.0000011920929%\n",
      "Model: \"sequential_7\"\n",
      "_________________________________________________________________\n",
      " Layer (type)                Output Shape              Param #   \n",
      "=================================================================\n",
      " conv2d_7 (Conv2D)           (None, 222, 222, 3)       84        \n",
      "                                                                 \n",
      " dropout_7 (Dropout)         (None, 222, 222, 3)       0         \n",
      "                                                                 \n",
      " flatten_7 (Flatten)         (None, 147852)            0         \n",
      "                                                                 \n",
      " dense_14 (Dense)            (None, 20)                2957060   \n",
      "                                                                 \n",
      " dense_15 (Dense)            (None, 4)                 84        \n",
      "                                                                 \n",
      "=================================================================\n",
      "Total params: 2,957,228\n",
      "Trainable params: 2,957,228\n",
      "Non-trainable params: 0\n",
      "_________________________________________________________________\n",
      "------------------------------------------------------------------------\n",
      "Training for fold 4 ...\n",
      "Epoch 1/10\n",
      "82/82 [==============================] - 11s 124ms/step - loss: 905.8458 - accuracy: 0.7064\n",
      "Epoch 2/10\n",
      "82/82 [==============================] - 10s 127ms/step - loss: 10.3047 - accuracy: 0.7220\n",
      "Epoch 3/10\n",
      "82/82 [==============================] - 10s 125ms/step - loss: 4.6422 - accuracy: 0.6911\n",
      "Epoch 4/10\n",
      "82/82 [==============================] - 11s 129ms/step - loss: 1.7048 - accuracy: 0.7320\n",
      "Epoch 5/10\n",
      "82/82 [==============================] - 10s 125ms/step - loss: 0.8673 - accuracy: 0.8110\n",
      "Epoch 6/10\n",
      "82/82 [==============================] - 10s 124ms/step - loss: 0.7017 - accuracy: 0.8396\n",
      "Epoch 7/10\n",
      "82/82 [==============================] - 10s 126ms/step - loss: 0.5888 - accuracy: 0.8564\n",
      "Epoch 8/10\n",
      "82/82 [==============================] - 10s 128ms/step - loss: 0.5635 - accuracy: 0.8603\n",
      "Epoch 9/10\n",
      "82/82 [==============================] - 11s 135ms/step - loss: 0.5067 - accuracy: 0.8709\n",
      "Epoch 10/10\n",
      "82/82 [==============================] - 10s 126ms/step - loss: 0.5075 - accuracy: 0.8736\n",
      "Score for fold 4: loss of 3.176032781600952; accuracy of 76.1832058429718%\n",
      "Model: \"sequential_8\"\n",
      "_________________________________________________________________\n",
      " Layer (type)                Output Shape              Param #   \n",
      "=================================================================\n",
      " conv2d_8 (Conv2D)           (None, 222, 222, 3)       84        \n",
      "                                                                 \n",
      " dropout_8 (Dropout)         (None, 222, 222, 3)       0         \n",
      "                                                                 \n",
      " flatten_8 (Flatten)         (None, 147852)            0         \n",
      "                                                                 \n",
      " dense_16 (Dense)            (None, 20)                2957060   \n",
      "                                                                 \n",
      " dense_17 (Dense)            (None, 4)                 84        \n",
      "                                                                 \n",
      "=================================================================\n",
      "Total params: 2,957,228\n",
      "Trainable params: 2,957,228\n",
      "Non-trainable params: 0\n",
      "_________________________________________________________________\n",
      "------------------------------------------------------------------------\n",
      "Training for fold 5 ...\n",
      "Epoch 1/10\n",
      "82/82 [==============================] - 11s 126ms/step - loss: 666.3167 - accuracy: 0.6355\n",
      "Epoch 2/10\n",
      "82/82 [==============================] - 11s 128ms/step - loss: 1.3000 - accuracy: 0.8126\n",
      "Epoch 3/10\n",
      "82/82 [==============================] - 11s 131ms/step - loss: 1.2169 - accuracy: 0.8126\n",
      "Epoch 4/10\n",
      "82/82 [==============================] - 11s 139ms/step - loss: 1.1433 - accuracy: 0.8126\n",
      "Epoch 5/10\n",
      "82/82 [==============================] - 11s 131ms/step - loss: 1.0782 - accuracy: 0.8126\n",
      "Epoch 6/10\n",
      "82/82 [==============================] - 12s 141ms/step - loss: 1.0206 - accuracy: 0.8126\n",
      "Epoch 7/10\n",
      "82/82 [==============================] - 10s 121ms/step - loss: 0.9702 - accuracy: 0.8126\n",
      "Epoch 8/10\n",
      "82/82 [==============================] - 10s 120ms/step - loss: 0.9263 - accuracy: 0.8126\n",
      "Epoch 9/10\n",
      "82/82 [==============================] - 10s 121ms/step - loss: 0.8881 - accuracy: 0.8126\n",
      "Epoch 10/10\n",
      "82/82 [==============================] - 11s 130ms/step - loss: 0.8552 - accuracy: 0.8126\n",
      "Score for fold 5: loss of 0.8341922760009766; accuracy of 81.80428147315979%\n"
     ]
    }
   ],
   "source": [
    "from sklearn.model_selection import KFold\n",
    "\n",
    "acc_per_fold = []\n",
    "loss_per_fold = []\n",
    "\n",
    "# Merge inputs and targets\n",
    "inputs = np.concatenate((x_train, x_test), axis=0)\n",
    "targets = np.concatenate((y_train, y_test), axis=0)\n",
    "\n",
    "# Define the K-fold Cross Validator\n",
    "kfold = KFold(n_splits=5, shuffle=True)\n",
    "\n",
    "# K-fold Cross Validation model evaluation\n",
    "fold_no = 1\n",
    "for train, test in kfold.split(inputs, targets):\n",
    "    \n",
    "    # generate model architecture\n",
    "    model = keras.Sequential()\n",
    "    model.add(keras.layers.Conv2D(filters=3, kernel_size=(3,3), activation='relu', input_shape=(224,224,3)))\n",
    "    model.add(keras.layers.Dropout(.25))\n",
    "    model.add(keras.layers.Flatten())\n",
    "    model.add(keras.layers.Dense(20, activation='relu'))\n",
    "    model.add(keras.layers.Dense(4, activation='softmax'))\n",
    "    model.summary()\n",
    "    \n",
    "    # compile the model\n",
    "    model.compile(optimizer='adam', loss='sparse_categorical_crossentropy', metrics=['accuracy'])\n",
    "\n",
    "\n",
    "  # Generate a print\n",
    "    print('------------------------------------------------------------------------')\n",
    "    print(f'Training for fold {fold_no} ...')\n",
    "\n",
    "  # Fit data to model\n",
    "    history = model.fit(inputs[train], targets[train],\n",
    "              batch_size=32,\n",
    "              epochs=10)\n",
    "\n",
    "  # Generate generalization metrics\n",
    "    scores = model.evaluate(inputs[test], targets[test], verbose=0)\n",
    "    print(f'Score for fold {fold_no}: {model.metrics_names[0]} of {scores[0]}; {model.metrics_names[1]} of {scores[1]*100}%')\n",
    "    acc_per_fold.append(scores[1] * 100)\n",
    "    loss_per_fold.append(scores[0])\n",
    "\n",
    "  # Increase fold number\n",
    "    fold_no = fold_no + 1\n",
    "\n",
    "\n"
   ]
  },
  {
   "cell_type": "code",
   "execution_count": 17,
   "id": "1199ccac-fbf2-4bd1-8a32-d5372d328318",
   "metadata": {},
   "outputs": [
    {
     "data": {
      "text/plain": [
       "0.815267175572519"
      ]
     },
     "execution_count": 17,
     "metadata": {},
     "output_type": "execute_result"
    }
   ],
   "source": [
    "from sklearn.metrics import accuracy_score\n",
    "y_pred = np.argmax(model.predict(x_test), axis=1)\n",
    "accuracy_score(y_pred, y_test)"
   ]
  },
  {
   "cell_type": "code",
   "execution_count": 18,
   "id": "f7eb960c-a0d4-4bc6-b338-221cd53a7173",
   "metadata": {},
   "outputs": [
    {
     "name": "stdout",
     "output_type": "stream",
     "text": [
      "Requirement already satisfied: pydot in c:\\users\\nick\\anaconda3\\lib\\site-packages (1.4.2)\n",
      "Requirement already satisfied: pyparsing>=2.1.4 in c:\\users\\nick\\anaconda3\\lib\\site-packages (from pydot) (2.4.7)\n",
      "Requirement already satisfied: graphviz in c:\\users\\nick\\anaconda3\\lib\\site-packages (0.19)\n",
      "Requirement already satisfied: pydotplus in c:\\users\\nick\\anaconda3\\lib\\site-packages (2.0.2)\n",
      "Requirement already satisfied: pyparsing>=2.0.1 in c:\\users\\nick\\anaconda3\\lib\\site-packages (from pydotplus) (2.4.7)\n",
      "('You must install pydot (`pip install pydot`) and install graphviz (see instructions at https://graphviz.gitlab.io/download/) ', 'for plot_model/model_to_dot to work.')\n"
     ]
    }
   ],
   "source": [
    "!pip install pydot\n",
    "!pip install graphviz\n",
    "!pip install pydotplus\n",
    "tf.keras.utils.plot_model(model)"
   ]
  }
 ],
 "metadata": {
  "kernelspec": {
   "display_name": "Python 3 (ipykernel)",
   "language": "python",
   "name": "python3"
  },
  "language_info": {
   "codemirror_mode": {
    "name": "ipython",
    "version": 3
   },
   "file_extension": ".py",
   "mimetype": "text/x-python",
   "name": "python",
   "nbconvert_exporter": "python",
   "pygments_lexer": "ipython3",
   "version": "3.8.11"
  }
 },
 "nbformat": 4,
 "nbformat_minor": 5
}
