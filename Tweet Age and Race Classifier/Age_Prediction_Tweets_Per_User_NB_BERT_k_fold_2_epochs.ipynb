{
 "cells": [
  {
   "cell_type": "markdown",
   "metadata": {},
   "source": [
    "# AGE PREDICTION"
   ]
  },
  {
   "cell_type": "code",
   "execution_count": 1,
   "metadata": {},
   "outputs": [],
   "source": [
    "import time\n",
    "code_start = time.time()"
   ]
  },
  {
   "cell_type": "markdown",
   "metadata": {},
   "source": [
    "# Importing Libraries"
   ]
  },
  {
   "cell_type": "code",
   "execution_count": 2,
   "metadata": {},
   "outputs": [],
   "source": [
    "import numpy as np\n",
    "import pandas as pd\n",
    "import re"
   ]
  },
  {
   "cell_type": "code",
   "execution_count": 3,
   "metadata": {},
   "outputs": [],
   "source": [
    "from sklearn import metrics\n",
    "from sklearn.metrics import classification_report, confusion_matrix\n",
    "from sklearn.feature_extraction.text import CountVectorizer\n",
    "from sklearn.naive_bayes import MultinomialNB\n",
    "from sklearn.model_selection import KFold"
   ]
  },
  {
   "cell_type": "code",
   "execution_count": 4,
   "metadata": {},
   "outputs": [],
   "source": [
    "import torch\n",
    "from torch.optim import Adam\n",
    "from torch import nn\n",
    "from torch.utils.data import Dataset, DataLoader"
   ]
  },
  {
   "cell_type": "code",
   "execution_count": 5,
   "metadata": {},
   "outputs": [],
   "source": [
    "from transformers import BertTokenizer, BertModel, get_linear_schedule_with_warmup"
   ]
  },
  {
   "cell_type": "code",
   "execution_count": 6,
   "metadata": {},
   "outputs": [
    {
     "data": {
      "text/plain": [
       "device(type='cuda', index=0)"
      ]
     },
     "execution_count": 6,
     "metadata": {},
     "output_type": "execute_result"
    }
   ],
   "source": [
    "device = torch.device(\"cuda:0\" if torch.cuda.is_available() else \"cpu\")\n",
    "device"
   ]
  },
  {
   "cell_type": "code",
   "execution_count": 7,
   "metadata": {},
   "outputs": [],
   "source": [
    "torch.cuda.empty_cache()"
   ]
  },
  {
   "cell_type": "code",
   "execution_count": 8,
   "metadata": {},
   "outputs": [],
   "source": [
    "import warnings\n",
    "warnings.simplefilter(action='ignore', category=FutureWarning)"
   ]
  },
  {
   "cell_type": "markdown",
   "metadata": {},
   "source": [
    "# Processing Data"
   ]
  },
  {
   "cell_type": "code",
   "execution_count": 9,
   "metadata": {},
   "outputs": [],
   "source": [
    "df_initial=pd.read_csv('labeled_tweet_table_Age.csv', encoding='utf8')"
   ]
  },
  {
   "cell_type": "code",
   "execution_count": 10,
   "metadata": {},
   "outputs": [
    {
     "data": {
      "text/html": [
       "<div>\n",
       "<style scoped>\n",
       "    .dataframe tbody tr th:only-of-type {\n",
       "        vertical-align: middle;\n",
       "    }\n",
       "\n",
       "    .dataframe tbody tr th {\n",
       "        vertical-align: top;\n",
       "    }\n",
       "\n",
       "    .dataframe thead th {\n",
       "        text-align: right;\n",
       "    }\n",
       "</style>\n",
       "<table border=\"1\" class=\"dataframe\">\n",
       "  <thead>\n",
       "    <tr style=\"text-align: right;\">\n",
       "      <th></th>\n",
       "      <th>Tweet</th>\n",
       "      <th>Screen Name</th>\n",
       "      <th>img_path</th>\n",
       "      <th>Under 21</th>\n",
       "    </tr>\n",
       "  </thead>\n",
       "  <tbody>\n",
       "    <tr>\n",
       "      <th>0</th>\n",
       "      <td>@AdvoBarryRoux @GetVidBot</td>\n",
       "      <td>_____zac_____</td>\n",
       "      <td>0</td>\n",
       "      <td>0</td>\n",
       "    </tr>\n",
       "    <tr>\n",
       "      <th>1</th>\n",
       "      <td>The owner of drip doesn't even have 100 mill, ...</td>\n",
       "      <td>_____zac_____</td>\n",
       "      <td>0</td>\n",
       "      <td>0</td>\n",
       "    </tr>\n",
       "    <tr>\n",
       "      <th>2</th>\n",
       "      <td>even Lekau the owner of Drip was saying that i...</td>\n",
       "      <td>_____zac_____</td>\n",
       "      <td>0</td>\n",
       "      <td>0</td>\n",
       "    </tr>\n",
       "    <tr>\n",
       "      <th>3</th>\n",
       "      <td>@casspernyovest is cappin  that \"R100m\" figure...</td>\n",
       "      <td>_____zac_____</td>\n",
       "      <td>0</td>\n",
       "      <td>0</td>\n",
       "    </tr>\n",
       "    <tr>\n",
       "      <th>4</th>\n",
       "      <td>I want a recipe from @JBscotchSA for #JBLemona...</td>\n",
       "      <td>_____zac_____</td>\n",
       "      <td>0</td>\n",
       "      <td>0</td>\n",
       "    </tr>\n",
       "  </tbody>\n",
       "</table>\n",
       "</div>"
      ],
      "text/plain": [
       "                                               Tweet    Screen Name  img_path  \\\n",
       "0                          @AdvoBarryRoux @GetVidBot  _____zac_____         0   \n",
       "1  The owner of drip doesn't even have 100 mill, ...  _____zac_____         0   \n",
       "2  even Lekau the owner of Drip was saying that i...  _____zac_____         0   \n",
       "3  @casspernyovest is cappin  that \"R100m\" figure...  _____zac_____         0   \n",
       "4  I want a recipe from @JBscotchSA for #JBLemona...  _____zac_____         0   \n",
       "\n",
       "   Under 21  \n",
       "0         0  \n",
       "1         0  \n",
       "2         0  \n",
       "3         0  \n",
       "4         0  "
      ]
     },
     "execution_count": 10,
     "metadata": {},
     "output_type": "execute_result"
    }
   ],
   "source": [
    "df_initial.head()"
   ]
  },
  {
   "cell_type": "code",
   "execution_count": 11,
   "metadata": {},
   "outputs": [
    {
     "data": {
      "text/plain": [
       "(106314, 4)"
      ]
     },
     "execution_count": 11,
     "metadata": {},
     "output_type": "execute_result"
    }
   ],
   "source": [
    "df_initial.shape"
   ]
  },
  {
   "cell_type": "code",
   "execution_count": 12,
   "metadata": {},
   "outputs": [],
   "source": [
    "regexMap={r\"<[\\w'/'\\s]*>\": \"\",r\"[\\'\\\"\\-]+\": \"\",r\"@[\\w]+\":\"\",r\"#[\\w]+\":\"\",\\\n",
    "          r\"https?:\\/\\/[\\w+@:%._\\+~#=]{1,256}\\.[\\w+()]{1,6}\\b([\\w+()@:%_\\+.~#?&\\/\\/=]*)\":\"\",\\\n",
    "          r\"https?:\\/\\/[\\w+@:%._\\+~#=]{1,256}\\.[\\w+()]{1,6}\\b([\\w+()@:%_\\+.~#?&\\/\\/=]*)\\b(\\;\\w+\\=\\w+)\":\"\",\\\n",
    "         r\"[\\w+@:%._\\+~#=]{1,256}\\.[\\w+()]{1,6}\\b([\\w+()@:%_\\+.~#?&\\/\\/=]*)\":\"\"}\n",
    "def preprocess(datainput):\n",
    "    t=datainput\n",
    "    for regx in regexMap.keys():\n",
    "        t = re.sub(regx, regexMap[regx], t)\n",
    "    return t"
   ]
  },
  {
   "cell_type": "code",
   "execution_count": 13,
   "metadata": {},
   "outputs": [],
   "source": [
    "df_initial[\"Tweet\"]=df_initial[\"Tweet\"].apply(preprocess)"
   ]
  },
  {
   "cell_type": "code",
   "execution_count": 14,
   "metadata": {},
   "outputs": [
    {
     "data": {
      "text/html": [
       "<div>\n",
       "<style scoped>\n",
       "    .dataframe tbody tr th:only-of-type {\n",
       "        vertical-align: middle;\n",
       "    }\n",
       "\n",
       "    .dataframe tbody tr th {\n",
       "        vertical-align: top;\n",
       "    }\n",
       "\n",
       "    .dataframe thead th {\n",
       "        text-align: right;\n",
       "    }\n",
       "</style>\n",
       "<table border=\"1\" class=\"dataframe\">\n",
       "  <thead>\n",
       "    <tr style=\"text-align: right;\">\n",
       "      <th></th>\n",
       "      <th>Tweet</th>\n",
       "      <th>Screen Name</th>\n",
       "      <th>img_path</th>\n",
       "      <th>Under 21</th>\n",
       "    </tr>\n",
       "  </thead>\n",
       "  <tbody>\n",
       "    <tr>\n",
       "      <th>0</th>\n",
       "      <td></td>\n",
       "      <td>_____zac_____</td>\n",
       "      <td>0</td>\n",
       "      <td>0</td>\n",
       "    </tr>\n",
       "    <tr>\n",
       "      <th>1</th>\n",
       "      <td>The owner of drip doesnt even have 100 mill, d...</td>\n",
       "      <td>_____zac_____</td>\n",
       "      <td>0</td>\n",
       "      <td>0</td>\n",
       "    </tr>\n",
       "    <tr>\n",
       "      <th>2</th>\n",
       "      <td>even Lekau the owner of Drip was saying that i...</td>\n",
       "      <td>_____zac_____</td>\n",
       "      <td>0</td>\n",
       "      <td>0</td>\n",
       "    </tr>\n",
       "    <tr>\n",
       "      <th>3</th>\n",
       "      <td>is cappin  that R100m figure is so inflated, ...</td>\n",
       "      <td>_____zac_____</td>\n",
       "      <td>0</td>\n",
       "      <td>0</td>\n",
       "    </tr>\n",
       "    <tr>\n",
       "      <th>4</th>\n",
       "      <td>I want a recipe from  for ! If youre looking f...</td>\n",
       "      <td>_____zac_____</td>\n",
       "      <td>0</td>\n",
       "      <td>0</td>\n",
       "    </tr>\n",
       "  </tbody>\n",
       "</table>\n",
       "</div>"
      ],
      "text/plain": [
       "                                               Tweet    Screen Name  img_path  \\\n",
       "0                                                     _____zac_____         0   \n",
       "1  The owner of drip doesnt even have 100 mill, d...  _____zac_____         0   \n",
       "2  even Lekau the owner of Drip was saying that i...  _____zac_____         0   \n",
       "3   is cappin  that R100m figure is so inflated, ...  _____zac_____         0   \n",
       "4  I want a recipe from  for ! If youre looking f...  _____zac_____         0   \n",
       "\n",
       "   Under 21  \n",
       "0         0  \n",
       "1         0  \n",
       "2         0  \n",
       "3         0  \n",
       "4         0  "
      ]
     },
     "execution_count": 14,
     "metadata": {},
     "output_type": "execute_result"
    }
   ],
   "source": [
    "df_initial.head()"
   ]
  },
  {
   "cell_type": "code",
   "execution_count": 15,
   "metadata": {},
   "outputs": [
    {
     "data": {
      "text/plain": [
       "(106314, 4)"
      ]
     },
     "execution_count": 15,
     "metadata": {},
     "output_type": "execute_result"
    }
   ],
   "source": [
    "df_initial.shape"
   ]
  },
  {
   "cell_type": "code",
   "execution_count": 16,
   "metadata": {},
   "outputs": [],
   "source": [
    "df = df_initial[[\"Tweet\",\"Screen Name\",\"Under 21\"]]"
   ]
  },
  {
   "cell_type": "code",
   "execution_count": 17,
   "metadata": {},
   "outputs": [
    {
     "data": {
      "text/html": [
       "<div>\n",
       "<style scoped>\n",
       "    .dataframe tbody tr th:only-of-type {\n",
       "        vertical-align: middle;\n",
       "    }\n",
       "\n",
       "    .dataframe tbody tr th {\n",
       "        vertical-align: top;\n",
       "    }\n",
       "\n",
       "    .dataframe thead th {\n",
       "        text-align: right;\n",
       "    }\n",
       "</style>\n",
       "<table border=\"1\" class=\"dataframe\">\n",
       "  <thead>\n",
       "    <tr style=\"text-align: right;\">\n",
       "      <th></th>\n",
       "      <th>Tweet</th>\n",
       "      <th>Screen Name</th>\n",
       "      <th>Under 21</th>\n",
       "    </tr>\n",
       "  </thead>\n",
       "  <tbody>\n",
       "    <tr>\n",
       "      <th>0</th>\n",
       "      <td></td>\n",
       "      <td>_____zac_____</td>\n",
       "      <td>0</td>\n",
       "    </tr>\n",
       "    <tr>\n",
       "      <th>1</th>\n",
       "      <td>The owner of drip doesnt even have 100 mill, d...</td>\n",
       "      <td>_____zac_____</td>\n",
       "      <td>0</td>\n",
       "    </tr>\n",
       "    <tr>\n",
       "      <th>2</th>\n",
       "      <td>even Lekau the owner of Drip was saying that i...</td>\n",
       "      <td>_____zac_____</td>\n",
       "      <td>0</td>\n",
       "    </tr>\n",
       "    <tr>\n",
       "      <th>3</th>\n",
       "      <td>is cappin  that R100m figure is so inflated, ...</td>\n",
       "      <td>_____zac_____</td>\n",
       "      <td>0</td>\n",
       "    </tr>\n",
       "    <tr>\n",
       "      <th>4</th>\n",
       "      <td>I want a recipe from  for ! If youre looking f...</td>\n",
       "      <td>_____zac_____</td>\n",
       "      <td>0</td>\n",
       "    </tr>\n",
       "  </tbody>\n",
       "</table>\n",
       "</div>"
      ],
      "text/plain": [
       "                                               Tweet    Screen Name  Under 21\n",
       "0                                                     _____zac_____         0\n",
       "1  The owner of drip doesnt even have 100 mill, d...  _____zac_____         0\n",
       "2  even Lekau the owner of Drip was saying that i...  _____zac_____         0\n",
       "3   is cappin  that R100m figure is so inflated, ...  _____zac_____         0\n",
       "4  I want a recipe from  for ! If youre looking f...  _____zac_____         0"
      ]
     },
     "execution_count": 17,
     "metadata": {},
     "output_type": "execute_result"
    }
   ],
   "source": [
    "df.head()"
   ]
  },
  {
   "cell_type": "code",
   "execution_count": 18,
   "metadata": {},
   "outputs": [
    {
     "data": {
      "text/plain": [
       "(106314, 3)"
      ]
     },
     "execution_count": 18,
     "metadata": {},
     "output_type": "execute_result"
    }
   ],
   "source": [
    "df.shape"
   ]
  },
  {
   "cell_type": "code",
   "execution_count": 19,
   "metadata": {},
   "outputs": [
    {
     "data": {
      "text/plain": [
       "0    67044\n",
       "1    39270\n",
       "Name: Under 21, dtype: int64"
      ]
     },
     "execution_count": 19,
     "metadata": {},
     "output_type": "execute_result"
    }
   ],
   "source": [
    "df['Under 21'].value_counts()"
   ]
  },
  {
   "cell_type": "code",
   "execution_count": 20,
   "metadata": {},
   "outputs": [
    {
     "name": "stdout",
     "output_type": "stream",
     "text": [
      "['_____zac_____' '___aleia' '___schaeffer___' '__drewc' '__EmilyRice__']\n",
      "1145\n"
     ]
    }
   ],
   "source": [
    "screen_names_list = df['Screen Name'].unique()\n",
    "\n",
    "print(screen_names_list[0:5])\n",
    "print(len(screen_names_list))"
   ]
  },
  {
   "cell_type": "code",
   "execution_count": 21,
   "metadata": {},
   "outputs": [],
   "source": [
    "def final_classification_report(cr_list, cm_list):\n",
    "    n = len(cr_list)\n",
    "    acc, prec_0, rec_0, f1_0, prec_1, rec_1, f1_1 = 0, 0, 0, 0, 0, 0, 0\n",
    "    cm = np.zeros((2,2))\n",
    "    \n",
    "    for i,cr in enumerate(cr_list):\n",
    "        acc += cr['accuracy']\n",
    "        prec_0 += cr['0']['precision']\n",
    "        rec_0 += cr['0']['recall']\n",
    "        f1_0 += cr['0']['f1-score']\n",
    "        prec_1 += cr['1']['precision']\n",
    "        rec_1 += cr['1']['recall']\n",
    "        f1_1 += cr['1']['f1-score']\n",
    "        \n",
    "        cm += cm_list[i]\n",
    "    \n",
    "    print(\"Overall Accuracy-\",round(acc/n,3),\"\\n\")\n",
    "    print(\"------(Age >= 21)------\\n\")\n",
    "    print(\"Precision-\",round(prec_0/n,3))\n",
    "    print(\"Recall-\",round(rec_0/n,3))\n",
    "    print(\"F1-\",round(f1_0/n,3))\n",
    "    print(\"\\n------(Age < 21)------\\n\")\n",
    "    print(\"Precision-\",round(prec_1/n,3))\n",
    "    print(\"Recall-\",round(rec_1/n,3))\n",
    "    print(\"F1-\",round(f1_1/n,3))\n",
    "    print(\"\\nConfusion Matrix-\\n\",cm)\n",
    "    "
   ]
  },
  {
   "cell_type": "markdown",
   "metadata": {},
   "source": [
    "# Naive Bayes Classifier"
   ]
  },
  {
   "cell_type": "markdown",
   "metadata": {},
   "source": [
    "## Dataset [Concatenate strings for all users]"
   ]
  },
  {
   "cell_type": "code",
   "execution_count": 22,
   "metadata": {},
   "outputs": [],
   "source": [
    "def df_NB(screen_names,df):\n",
    "    tweets_dict = dict()\n",
    "\n",
    "    for i,screen_name in enumerate(screen_names):\n",
    "    \n",
    "        tweets_list = df[df['Screen Name']==screen_name][\"Tweet\"].tolist()\n",
    "        tweets_dict[i] = [screen_name,' '.join(tweets_list),df[df['Screen Name']==screen_name][\"Under 21\"].unique()[0]]\n",
    "    tweets_NB = pd.DataFrame.from_dict(tweets_dict , orient='index')\n",
    "    tweets_NB = tweets_NB.rename(columns={0: 'Screen Name', 1: 'Tweets', 2: 'Under 21'})\n",
    "    return tweets_NB"
   ]
  },
  {
   "cell_type": "markdown",
   "metadata": {},
   "source": [
    "## Vectorizing Words"
   ]
  },
  {
   "cell_type": "code",
   "execution_count": 23,
   "metadata": {},
   "outputs": [],
   "source": [
    "def Vectorizing(train_tweets_NB, test_tweets_NB,stop_words_vectorizer):\n",
    "    stop_words_vectorizer.fit(train_tweets_NB[\"Tweets\"].values)\n",
    "    \n",
    "    x_input=stop_words_vectorizer.transform(train_tweets_NB[\"Tweets\"].values)\n",
    "    x_test_input=stop_words_vectorizer.transform(test_tweets_NB[\"Tweets\"].values)\n",
    "    \n",
    "    return x_input, x_test_input"
   ]
  },
  {
   "cell_type": "markdown",
   "metadata": {},
   "source": [
    "## Model and training"
   ]
  },
  {
   "cell_type": "code",
   "execution_count": 24,
   "metadata": {},
   "outputs": [],
   "source": [
    "def model_NB(train_tweets_NB, test_tweets_NB,nb,stop_words_vectorizer):\n",
    "    \n",
    "    x_input, x_test_input = Vectorizing(train_tweets_NB, test_tweets_NB,stop_words_vectorizer)\n",
    "    \n",
    "    nb.fit(x_input,train_tweets_NB[\"Under 21\"])\n",
    "    \n",
    "    y_pred_train = nb.predict(x_input)\n",
    "    print(\"Train accurary-\",round(metrics.accuracy_score(train_tweets_NB[\"Under 21\"].values, y_pred_train),3))\n",
    "    \n",
    "    y_pred_test = nb.predict(x_test_input)\n",
    "    print(\"Test accurary-\",round(metrics.accuracy_score(test_tweets_NB[\"Under 21\"].values, y_pred_test),3))\n",
    "    \n",
    "    c_report = classification_report(y_true=test_tweets_NB[\"Under 21\"].values,y_pred=y_pred_test,output_dict=True)\n",
    "    cm = confusion_matrix(test_tweets_NB[\"Under 21\"].values,y_pred_test)\n",
    "    \n",
    "    #print(\"Classification Report\\n\",classification_report(y_true=test_tweets_NB[\"Under 21\"].values,y_pred=y_pred_test))\n",
    "    \n",
    "    return c_report, cm"
   ]
  },
  {
   "cell_type": "code",
   "execution_count": null,
   "metadata": {},
   "outputs": [],
   "source": []
  },
  {
   "cell_type": "code",
   "execution_count": 25,
   "metadata": {
    "scrolled": false
   },
   "outputs": [
    {
     "name": "stdout",
     "output_type": "stream",
     "text": [
      "K-fold 1/5\n",
      "--------------------\n",
      "Train accurary- 0.989\n",
      "Test accurary- 0.629\n",
      "K-fold 2/5\n",
      "--------------------\n",
      "Train accurary- 0.987\n",
      "Test accurary- 0.659\n",
      "K-fold 3/5\n",
      "--------------------\n",
      "Train accurary- 0.99\n",
      "Test accurary- 0.712\n",
      "K-fold 4/5\n",
      "--------------------\n",
      "Train accurary- 0.989\n",
      "Test accurary- 0.642\n",
      "K-fold 5/5\n",
      "--------------------\n",
      "Train accurary- 0.998\n",
      "Test accurary- 0.672\n"
     ]
    }
   ],
   "source": [
    "kf_NB = KFold(n_splits=5, random_state=24)\n",
    "c_report_list = []\n",
    "cm_list = []\n",
    "k=1\n",
    "\n",
    "stop_words_vectorizer=CountVectorizer(stop_words='english')\n",
    "\n",
    "for train_tweets_sn, test_tweets_sn in kf_NB.split(screen_names_list):\n",
    "    \n",
    "    print(f'K-fold {k}/{5}')\n",
    "    print('-' * 20)\n",
    "    \n",
    "    train_tweets_sn = screen_names_list[train_tweets_sn]\n",
    "    test_tweets_sn = screen_names_list[test_tweets_sn]\n",
    "    \n",
    "    train_tweets_NB = df_NB(train_tweets_sn,df)\n",
    "    test_tweets_NB = df_NB (test_tweets_sn,df)\n",
    "    \n",
    "    nb = MultinomialNB()\n",
    "    \n",
    "    a,b = model_NB(train_tweets_NB, test_tweets_NB,nb,stop_words_vectorizer)\n",
    "    \n",
    "    c_report_list.append(a)\n",
    "    cm_list.append(b)\n",
    "    \n",
    "    k+=1"
   ]
  },
  {
   "cell_type": "code",
   "execution_count": 26,
   "metadata": {},
   "outputs": [
    {
     "name": "stdout",
     "output_type": "stream",
     "text": [
      "Overall Accuracy- 0.663 \n",
      "\n",
      "------(Age >= 21)------\n",
      "\n",
      "Precision- 0.668\n",
      "Recall- 0.924\n",
      "F1- 0.774\n",
      "\n",
      "------(Age < 21)------\n",
      "\n",
      "Precision- 0.638\n",
      "Recall- 0.226\n",
      "F1- 0.327\n",
      "\n",
      "Confusion Matrix-\n",
      " [[663.  55.]\n",
      " [331.  96.]]\n"
     ]
    }
   ],
   "source": [
    "final_classification_report(c_report_list,cm_list)"
   ]
  },
  {
   "cell_type": "markdown",
   "metadata": {},
   "source": [
    "# BERT Model"
   ]
  },
  {
   "cell_type": "markdown",
   "metadata": {},
   "source": [
    "## Dataset [Split dataset by users]"
   ]
  },
  {
   "cell_type": "code",
   "execution_count": null,
   "metadata": {},
   "outputs": [],
   "source": []
  },
  {
   "cell_type": "code",
   "execution_count": null,
   "metadata": {},
   "outputs": [],
   "source": []
  },
  {
   "cell_type": "code",
   "execution_count": 27,
   "metadata": {},
   "outputs": [],
   "source": [
    "def train_df(train_tweets_sn, df):\n",
    "    train_tweets_df = df[df[\"Screen Name\"]==train_tweets_sn[0]]\n",
    "    for x in train_tweets_sn[1:]:\n",
    "        train_tweets_df = train_tweets_df.append(df[df[\"Screen Name\"]==x])\n",
    "    return train_tweets_df"
   ]
  },
  {
   "cell_type": "code",
   "execution_count": 28,
   "metadata": {},
   "outputs": [],
   "source": [
    "def test_df(test_tweets_sn,df):\n",
    "    test_tweets_df = df[df[\"Screen Name\"]==test_tweets_sn[0]]\n",
    "    for x in test_tweets_sn[1:]:\n",
    "        test_tweets_df = test_tweets_df.append(df[df[\"Screen Name\"]==x])\n",
    "    return test_tweets_df"
   ]
  },
  {
   "cell_type": "code",
   "execution_count": null,
   "metadata": {},
   "outputs": [],
   "source": []
  },
  {
   "cell_type": "code",
   "execution_count": null,
   "metadata": {},
   "outputs": [],
   "source": []
  },
  {
   "cell_type": "markdown",
   "metadata": {},
   "source": [
    "## Dataloader"
   ]
  },
  {
   "cell_type": "code",
   "execution_count": 29,
   "metadata": {},
   "outputs": [],
   "source": [
    "class Tweet_Dataset(Dataset):\n",
    "    def __init__(self,dataset,tokenizer,max_len):\n",
    "        \n",
    "        self.dataset = dataset\n",
    "        self.tokenizer = tokenizer\n",
    "        self.max_len = max_len    \n",
    "        \n",
    "    def __len__(self):\n",
    "        return len(self.dataset[\"Tweet\"])\n",
    "    \n",
    "    def __getitem__(self, index):\n",
    "        \n",
    "        tweet = str(self.dataset.iloc[index,0])\n",
    "        label = self.dataset.iloc[index,2]\n",
    "        \n",
    "        encoding_input = self.tokenizer.encode_plus(tweet,max_length=self.max_len, add_special_tokens=True,\\\n",
    "                                               return_token_type_ids=False,pad_to_max_length=True, return_attention_mask=True,\\\n",
    "                                               return_tensors='pt',truncation=True)\n",
    "        \n",
    "        \n",
    "        return {'tweet':tweet,'label':label,'input_ids':encoding_input['input_ids'].flatten(),\\\n",
    "                'attention_mask':encoding_input['attention_mask'].flatten()} "
   ]
  },
  {
   "cell_type": "code",
   "execution_count": 30,
   "metadata": {
    "scrolled": true
   },
   "outputs": [
    {
     "name": "stdout",
     "output_type": "stream",
     "text": [
      "150\n"
     ]
    }
   ],
   "source": [
    "tokenizer = BertTokenizer.from_pretrained(\"bert-base-cased\")\n",
    "token_lens = []\n",
    "for txt in df[\"Tweet\"]:\n",
    "    tokens = tokenizer.encode(txt)\n",
    "    token_lens.append(len(tokens))\n",
    "print(max(token_lens))"
   ]
  },
  {
   "cell_type": "markdown",
   "metadata": {},
   "source": [
    "## Creating a model"
   ]
  },
  {
   "cell_type": "code",
   "execution_count": 31,
   "metadata": {},
   "outputs": [],
   "source": [
    "class Classifier(torch.nn.Module):\n",
    "    def __init__(self):\n",
    "        \n",
    "        super(Classifier, self).__init__()\n",
    "        \n",
    "        self.bert_model=BertModel.from_pretrained(\"bert-base-cased\")\n",
    "        \n",
    "        self.dropout = nn.Dropout(p=0.3)\n",
    "        \n",
    "        self.linear = nn.Linear(self.bert_model.config.hidden_size,2) \n",
    "        \n",
    "    def forward(self,input_ids, attention_mask):\n",
    "        \n",
    "        last_hidden_layer,pooled_output = self.bert_model(input_ids=input_ids,attention_mask=attention_mask, return_dict=False)\n",
    "        \n",
    "        dropout_output = self.dropout(pooled_output)\n",
    "        \n",
    "        linear_output = self.linear(dropout_output)\n",
    "        \n",
    "        return linear_output"
   ]
  },
  {
   "cell_type": "markdown",
   "metadata": {},
   "source": [
    "## Training and Testing"
   ]
  },
  {
   "cell_type": "code",
   "execution_count": 32,
   "metadata": {},
   "outputs": [],
   "source": [
    "def train_loop(dataloader, model, loss_fn, optimizer,device, scheduler):\n",
    "    \n",
    "    size = len(dataloader.dataset)\n",
    "    model=model.train()\n",
    "    losses=0 \n",
    "    accuracy=0 \n",
    "    \n",
    "    for d in dataloader:\n",
    "        \n",
    "        \n",
    "        input_ids = d['input_ids'].to(device)\n",
    "        attention_mask = d['attention_mask'].to(device)\n",
    "        targets = d['label'].to(device) \n",
    "        \n",
    "        optimizer.zero_grad()\n",
    "        \n",
    "        outputs = model(input_ids=input_ids,attention_mask=attention_mask)\n",
    "\n",
    "        _, preds = torch.max(outputs, dim=1)\n",
    "        \n",
    "        loss = loss_fn(outputs, targets)\n",
    "\n",
    "        # Backpropagation\n",
    "        \n",
    "        loss.backward()\n",
    "        nn.utils.clip_grad_norm_(model.parameters(), max_norm=1.0)\n",
    "        optimizer.step()\n",
    "        \n",
    "        \n",
    "        correct = (preds == targets).float()\n",
    "        acc=torch.sum(correct)\n",
    "        accuracy+=acc.item()  \n",
    "        \n",
    "        scheduler.step()\n",
    "        \n",
    "        losses+=loss.item()   \n",
    "        \n",
    "    return accuracy/size, losses/size"
   ]
  },
  {
   "cell_type": "code",
   "execution_count": 33,
   "metadata": {},
   "outputs": [],
   "source": [
    "def test_loop(dataloader, model, device):\n",
    "    \n",
    "    model=model.eval()\n",
    "    \n",
    "    predictions = []\n",
    "    \n",
    "    with torch.no_grad():\n",
    "        for d in dataloader:\n",
    "            \n",
    "            input_ids = d['input_ids'].to(device)\n",
    "            attention_mask = d['attention_mask'].to(device)\n",
    "            targets = d['label'].to(device)\n",
    "        \n",
    "            outputs = model(input_ids=input_ids,attention_mask=attention_mask)\n",
    "            \n",
    "            _, preds = torch.max(outputs, dim=1)\n",
    "            \n",
    "            predictions = predictions + preds.tolist()\n",
    "    \n",
    "    values, counts = np.unique(predictions, return_counts=True)\n",
    "    ind = np.argmax(counts)\n",
    "    final_pred = values[ind]\n",
    " \n",
    "    return final_pred"
   ]
  },
  {
   "cell_type": "code",
   "execution_count": 34,
   "metadata": {},
   "outputs": [],
   "source": [
    "def age_prediction(train_twitter_loader, test_tweets_df, test_tweets_sn, model, loss, optimizer, device, scheduler, epochs, tokenizer, max_len, batch_size):\n",
    "    \n",
    "    best_test_acc = 0\n",
    "    c_report_best = None\n",
    "    c_matrix_best = None\n",
    "    \n",
    "    for t in range(epochs):\n",
    "        print(f'Epoch {t + 1}/{epochs}')\n",
    "        print('-' * 10)\n",
    "\n",
    "        start=time.time()\n",
    "                    \n",
    "        train_acc, train_loss = train_loop(train_twitter_loader, model, loss, optimizer, device, scheduler)\n",
    "\n",
    "        correct_pred = 0\n",
    "        \n",
    "        predictions=[]\n",
    "        target_values=[]\n",
    "        \n",
    "        for y in test_tweets_sn:\n",
    "            \n",
    "            test_dataset = Tweet_Dataset(test_tweets_df[test_tweets_df[\"Screen Name\"]==y],tokenizer,max_len)\n",
    "            test_twitter_loader = DataLoader(test_dataset, batch_size=batch_size, shuffle=True)\n",
    "            \n",
    "            test_pred = test_loop(test_twitter_loader, model, device)\n",
    "            \n",
    "            test_label = test_tweets_df[test_tweets_df[\"Screen Name\"]==y][\"Under 21\"].unique()\n",
    "            \n",
    "            if(test_pred==test_label[0]):\n",
    "                    correct_pred+=1\n",
    "            \n",
    "            predictions.append(test_pred)\n",
    "            target_values.append(test_label[0])\n",
    "        \n",
    "        end=time.time()\n",
    "        print(\"time taken-\",round((end-start)/60.0,2),\"minutes\")\n",
    "\n",
    "        print(\"Train Loss {} | Train Accuracy: {}%\".format(round(train_loss, 3), round(train_acc*100, 3)))\n",
    "        \n",
    "        test_acc = correct_pred/len(test_tweets_sn)\n",
    "        print(\"Test Accuracy: {}%\".format(round(test_acc*100, 3)))\n",
    "        \n",
    "        c_report = classification_report(y_true=target_values,y_pred=predictions,output_dict=True)\n",
    "        c_matrix = confusion_matrix(target_values,predictions)\n",
    "        \n",
    "        #print(\"Classification Report\\n\",classification_report(y_true=target_values,y_pred=predictions))\n",
    "        \n",
    "        if test_acc > best_test_acc:\n",
    "            best_test_acc = test_acc\n",
    "            # Save the parameters of the model\n",
    "            c_report_best = c_report\n",
    "            c_matrix_best = c_matrix\n",
    "            \n",
    "    return c_report_best, c_matrix_best"
   ]
  },
  {
   "cell_type": "code",
   "execution_count": 35,
   "metadata": {},
   "outputs": [],
   "source": [
    "def main(train_tweets_df, test_tweets_df, test_tweets_sn):\n",
    "    \n",
    "    learning_rate = 3.1e-5  \n",
    "    epochs = 2 \n",
    "    \n",
    "    MAX_LEN = 160 #180  \n",
    "    BATCH_SIZE = 64 \n",
    "\n",
    "    model = Classifier()\n",
    "    model = model.to(device)\n",
    "    \n",
    "    loss=nn.CrossEntropyLoss().to(device)\n",
    "    optimizer = Adam(model.parameters(), lr=learning_rate)\n",
    "    \n",
    "    tokenizer = BertTokenizer.from_pretrained(\"bert-base-cased\")\n",
    "    \n",
    "    train_dataset = Tweet_Dataset(train_tweets_df,tokenizer,MAX_LEN)\n",
    "    train_twitter_loader = DataLoader(train_dataset, batch_size=BATCH_SIZE, shuffle=True)\n",
    "    \n",
    "    total_steps = len(train_twitter_loader) * epochs\n",
    "    scheduler = get_linear_schedule_with_warmup(optimizer,num_warmup_steps=0,num_training_steps=total_steps)\n",
    "    \n",
    "    return age_prediction(train_twitter_loader, test_tweets_df, test_tweets_sn, model, loss, optimizer, device, scheduler, epochs, tokenizer, MAX_LEN, BATCH_SIZE)"
   ]
  },
  {
   "cell_type": "code",
   "execution_count": 36,
   "metadata": {
    "scrolled": false
   },
   "outputs": [
    {
     "name": "stdout",
     "output_type": "stream",
     "text": [
      "K-fold 1/5\n",
      "--------------------\n",
      "Epoch 1/2\n",
      "----------\n",
      "time taken- 12.96 minutes\n",
      "Train Loss 0.01 | Train Accuracy: 64.04%\n",
      "Test Accuracy: 64.192%\n",
      "Epoch 2/2\n",
      "----------\n",
      "time taken- 12.95 minutes\n",
      "Train Loss 0.009 | Train Accuracy: 67.838%\n",
      "Test Accuracy: 70.306%\n",
      "K-fold 2/5\n",
      "--------------------\n",
      "Epoch 1/2\n",
      "----------\n",
      "time taken- 12.93 minutes\n",
      "Train Loss 0.01 | Train Accuracy: 63.711%\n",
      "Test Accuracy: 68.122%\n",
      "Epoch 2/2\n",
      "----------\n",
      "time taken- 12.92 minutes\n",
      "Train Loss 0.009 | Train Accuracy: 66.966%\n",
      "Test Accuracy: 69.869%\n",
      "K-fold 3/5\n",
      "--------------------\n",
      "Epoch 1/2\n",
      "----------\n",
      "time taken- 13.0 minutes\n",
      "Train Loss 0.01 | Train Accuracy: 64.204%\n",
      "Test Accuracy: 68.122%\n",
      "Epoch 2/2\n",
      "----------\n",
      "time taken- 13.02 minutes\n",
      "Train Loss 0.009 | Train Accuracy: 68.353%\n",
      "Test Accuracy: 67.686%\n",
      "K-fold 4/5\n",
      "--------------------\n",
      "Epoch 1/2\n",
      "----------\n",
      "time taken- 13.01 minutes\n",
      "Train Loss 0.01 | Train Accuracy: 64.626%\n",
      "Test Accuracy: 62.009%\n",
      "Epoch 2/2\n",
      "----------\n",
      "time taken- 13.02 minutes\n",
      "Train Loss 0.009 | Train Accuracy: 67.952%\n",
      "Test Accuracy: 64.192%\n",
      "K-fold 5/5\n",
      "--------------------\n",
      "Epoch 1/2\n",
      "----------\n",
      "time taken- 12.97 minutes\n",
      "Train Loss 0.01 | Train Accuracy: 64.874%\n",
      "Test Accuracy: 64.192%\n",
      "Epoch 2/2\n",
      "----------\n",
      "time taken- 12.98 minutes\n",
      "Train Loss 0.009 | Train Accuracy: 68.28%\n",
      "Test Accuracy: 65.939%\n"
     ]
    }
   ],
   "source": [
    "kf = KFold(n_splits=5, shuffle = True, random_state=24)\n",
    "c_report_list = []\n",
    "cm_list = []\n",
    "k=1\n",
    "\n",
    "for train_tweets_sn, test_tweets_sn in kf.split(screen_names_list):\n",
    "    print(f'K-fold {k}/{5}')\n",
    "    print('-' * 20)\n",
    "    \n",
    "    train_tweets_sn = screen_names_list[train_tweets_sn]\n",
    "    test_tweets_sn = screen_names_list[test_tweets_sn]\n",
    "\n",
    "    train_tweets_df = train_df(train_tweets_sn, df)\n",
    "    test_tweets_df = test_df(test_tweets_sn, df)\n",
    "    c_report, c_matrix = main(train_tweets_df, test_tweets_df, test_tweets_sn)        \n",
    "    \n",
    "    c_report_list.append(c_report)\n",
    "    cm_list.append(c_matrix)\n",
    "    \n",
    "    k=k+1"
   ]
  },
  {
   "cell_type": "markdown",
   "metadata": {},
   "source": [
    "# Result"
   ]
  },
  {
   "cell_type": "code",
   "execution_count": 37,
   "metadata": {},
   "outputs": [
    {
     "name": "stdout",
     "output_type": "stream",
     "text": [
      "Overall Accuracy- 0.677 \n",
      "\n",
      "------(Age >= 21)------\n",
      "\n",
      "Precision- 0.683\n",
      "Recall- 0.907\n",
      "F1- 0.779\n",
      "\n",
      "------(Age < 21)------\n",
      "\n",
      "Precision- 0.654\n",
      "Recall- 0.292\n",
      "F1- 0.401\n",
      "\n",
      "Confusion Matrix-\n",
      " [[651.  67.]\n",
      " [303. 124.]]\n"
     ]
    }
   ],
   "source": [
    "final_classification_report(c_report_list, cm_list)"
   ]
  },
  {
   "cell_type": "code",
   "execution_count": null,
   "metadata": {},
   "outputs": [],
   "source": []
  },
  {
   "cell_type": "code",
   "execution_count": null,
   "metadata": {},
   "outputs": [],
   "source": []
  },
  {
   "cell_type": "markdown",
   "metadata": {},
   "source": [
    "## Prediction"
   ]
  },
  {
   "cell_type": "code",
   "execution_count": null,
   "metadata": {},
   "outputs": [],
   "source": []
  },
  {
   "cell_type": "code",
   "execution_count": null,
   "metadata": {},
   "outputs": [],
   "source": []
  },
  {
   "cell_type": "code",
   "execution_count": null,
   "metadata": {},
   "outputs": [],
   "source": []
  },
  {
   "cell_type": "code",
   "execution_count": null,
   "metadata": {},
   "outputs": [],
   "source": []
  },
  {
   "cell_type": "code",
   "execution_count": null,
   "metadata": {},
   "outputs": [],
   "source": []
  },
  {
   "cell_type": "code",
   "execution_count": 38,
   "metadata": {},
   "outputs": [
    {
     "name": "stdout",
     "output_type": "stream",
     "text": [
      "time taken for notebook- 132.27\n"
     ]
    }
   ],
   "source": [
    "print(\"time taken for notebook-\",round((time.time()-code_start)/60.0,2))"
   ]
  }
 ],
 "metadata": {
  "kernelspec": {
   "display_name": "Python 3",
   "language": "python",
   "name": "python3"
  },
  "language_info": {
   "codemirror_mode": {
    "name": "ipython",
    "version": 3
   },
   "file_extension": ".py",
   "mimetype": "text/x-python",
   "name": "python",
   "nbconvert_exporter": "python",
   "pygments_lexer": "ipython3",
   "version": "3.8.6"
  }
 },
 "nbformat": 4,
 "nbformat_minor": 4
}
