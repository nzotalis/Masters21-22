{
 "cells": [
  {
   "cell_type": "markdown",
   "id": "d64c1f81",
   "metadata": {},
   "source": [
    "The original labelled_users.csv had an unequal distribution of age \n",
    "(312672 items for \"0\", 801 items for \"1\")\n",
    "\n",
    "Prof Derry posted a new dataset with equal distribution in age. She said we can use old data for race and this new data for age. (https://piazza.com/class/ksrsk4bt97t221?cid=173)\n",
    "\n",
    "I created the dataset for Age using the new dataset. The race dataset is same as the one Nick created, I just removed the age label."
   ]
  },
  {
   "cell_type": "code",
   "execution_count": 1,
   "id": "e13a4fc1",
   "metadata": {},
   "outputs": [],
   "source": [
    "import json\n",
    "import pandas as pd"
   ]
  },
  {
   "cell_type": "markdown",
   "id": "3a323f69",
   "metadata": {},
   "source": [
    "# For Age"
   ]
  },
  {
   "cell_type": "code",
   "execution_count": 2,
   "id": "d24f14aa",
   "metadata": {},
   "outputs": [],
   "source": [
    "with open(\"./labeled_users_1145/tweets.json\", encoding=\"utf8\") as file:\n",
    "    text = file.read()\n",
    "    tweets_1145 = json.loads(text)"
   ]
  },
  {
   "cell_type": "code",
   "execution_count": 3,
   "id": "eaf59a80",
   "metadata": {},
   "outputs": [],
   "source": [
    "#tweets_1145.keys()"
   ]
  },
  {
   "cell_type": "code",
   "execution_count": 4,
   "id": "0dd9709c",
   "metadata": {},
   "outputs": [
    {
     "data": {
      "text/plain": [
       "2678"
      ]
     },
     "execution_count": 4,
     "metadata": {},
     "output_type": "execute_result"
    }
   ],
   "source": [
    "len(tweets_1145)"
   ]
  },
  {
   "cell_type": "code",
   "execution_count": 5,
   "id": "f1988f56",
   "metadata": {},
   "outputs": [
    {
     "data": {
      "text/plain": [
       "['@_spacejamtwo THIRTY WHAT',\n",
       " 'I love my best friend https://t.co/f1fhHWmEK4',\n",
       " 'THANK YOU https://t.co/iGF1lyEWI0',\n",
       " '@_spacejamtwo I genuinely can not gage the size of you in this photo and it bothers me',\n",
       " '@hanpanmangaki IM SCREAMING THIS IS SO AMAZING!!!!!!!']"
      ]
     },
     "execution_count": 5,
     "metadata": {},
     "output_type": "execute_result"
    }
   ],
   "source": [
    "tweets_1145['strwbrrymlkt'][0:5]"
   ]
  },
  {
   "cell_type": "code",
   "execution_count": 6,
   "id": "2f39b2d9",
   "metadata": {},
   "outputs": [
    {
     "data": {
      "text/plain": [
       "['It come wit it 😭 https://t.co/ENyEtlphtP',\n",
       " '@naomisos Thanks bby🥰😘',\n",
       " 'I’m so pretty like &lt;3 https://t.co/EY5cjNtdeI',\n",
       " 'oo u kno u nasty 😋',\n",
       " 'https://t.co/6ZEALkW4Du https://t.co/JSojWWke5f']"
      ]
     },
     "execution_count": 6,
     "metadata": {},
     "output_type": "execute_result"
    }
   ],
   "source": [
    "tweets_1145['___Dals'][0:5]"
   ]
  },
  {
   "cell_type": "code",
   "execution_count": 7,
   "id": "df3b7ae3",
   "metadata": {},
   "outputs": [],
   "source": [
    "users_1145 = pd.read_csv(\"./labeled_users_1145/labeled_users.csv\", lineterminator='\\n')"
   ]
  },
  {
   "cell_type": "code",
   "execution_count": 8,
   "id": "948c6707",
   "metadata": {},
   "outputs": [
    {
     "data": {
      "text/plain": [
       "1145"
      ]
     },
     "execution_count": 8,
     "metadata": {},
     "output_type": "execute_result"
    }
   ],
   "source": [
    "len(users_1145)"
   ]
  },
  {
   "cell_type": "code",
   "execution_count": 9,
   "id": "1ca98e19",
   "metadata": {
    "scrolled": true
   },
   "outputs": [
    {
     "data": {
      "text/html": [
       "<div>\n",
       "<style scoped>\n",
       "    .dataframe tbody tr th:only-of-type {\n",
       "        vertical-align: middle;\n",
       "    }\n",
       "\n",
       "    .dataframe tbody tr th {\n",
       "        vertical-align: top;\n",
       "    }\n",
       "\n",
       "    .dataframe thead th {\n",
       "        text-align: right;\n",
       "    }\n",
       "</style>\n",
       "<table border=\"1\" class=\"dataframe\">\n",
       "  <thead>\n",
       "    <tr style=\"text-align: right;\">\n",
       "      <th></th>\n",
       "      <th>Unnamed: 0</th>\n",
       "      <th>Unnamed: 0.1</th>\n",
       "      <th>screen_name</th>\n",
       "      <th>user_id</th>\n",
       "      <th>lang</th>\n",
       "      <th>name</th>\n",
       "      <th>location</th>\n",
       "      <th>description</th>\n",
       "      <th>protected</th>\n",
       "      <th>followers_count</th>\n",
       "      <th>...</th>\n",
       "      <th>profile_background_url</th>\n",
       "      <th>profile_image_url</th>\n",
       "      <th>user.name</th>\n",
       "      <th>num.tweets.used.Lexicon.prediction</th>\n",
       "      <th>Lexicon.age.prediction</th>\n",
       "      <th>Lexicon.gender.prediction..index.</th>\n",
       "      <th>lexicon.gender.prediction</th>\n",
       "      <th>human.labeled.gender</th>\n",
       "      <th>human.labeled.age</th>\n",
       "      <th>age</th>\n",
       "    </tr>\n",
       "  </thead>\n",
       "  <tbody>\n",
       "    <tr>\n",
       "      <th>0</th>\n",
       "      <td>0</td>\n",
       "      <td>1</td>\n",
       "      <td>_____zac_____</td>\n",
       "      <td>4.614412e+08</td>\n",
       "      <td>en</td>\n",
       "      <td>zac ¢</td>\n",
       "      <td>Maryland, USA</td>\n",
       "      <td>_____Û___È_Ü´Ù</td>\n",
       "      <td>False</td>\n",
       "      <td>208</td>\n",
       "      <td>...</td>\n",
       "      <td>http://abs.twimg.com/images/themes/theme1/bg.png</td>\n",
       "      <td>http://pbs.twimg.com/profile_images/1226134911...</td>\n",
       "      <td>@_____zac_____</td>\n",
       "      <td>100.0</td>\n",
       "      <td>27.652434</td>\n",
       "      <td>-1.457167</td>\n",
       "      <td>M</td>\n",
       "      <td>NaN</td>\n",
       "      <td>23.0</td>\n",
       "      <td>1.0</td>\n",
       "    </tr>\n",
       "    <tr>\n",
       "      <th>1</th>\n",
       "      <td>1</td>\n",
       "      <td>2</td>\n",
       "      <td>___aleia</td>\n",
       "      <td>7.650000e+17</td>\n",
       "      <td>en</td>\n",
       "      <td>_æ___ dad ___æ_</td>\n",
       "      <td>Ohio, USA</td>\n",
       "      <td>BLACK. LIVES. MATTER.</td>\n",
       "      <td>False</td>\n",
       "      <td>466</td>\n",
       "      <td>...</td>\n",
       "      <td>NaN</td>\n",
       "      <td>http://pbs.twimg.com/profile_images/1271280679...</td>\n",
       "      <td>@___aleia</td>\n",
       "      <td>100.0</td>\n",
       "      <td>24.111464</td>\n",
       "      <td>0.985713</td>\n",
       "      <td>F</td>\n",
       "      <td>NaN</td>\n",
       "      <td>19.0</td>\n",
       "      <td>0.0</td>\n",
       "    </tr>\n",
       "    <tr>\n",
       "      <th>2</th>\n",
       "      <td>3</td>\n",
       "      <td>4</td>\n",
       "      <td>___schaeffer___</td>\n",
       "      <td>1.257110e+09</td>\n",
       "      <td>en</td>\n",
       "      <td>Brenden Schaeffer</td>\n",
       "      <td>The Lou</td>\n",
       "      <td>Culver-Stockton College '20 ¢ Ô_Ô_Ô KM 1548...</td>\n",
       "      <td>False</td>\n",
       "      <td>811</td>\n",
       "      <td>...</td>\n",
       "      <td>http://abs.twimg.com/images/themes/theme1/bg.png</td>\n",
       "      <td>http://pbs.twimg.com/profile_images/1268044218...</td>\n",
       "      <td>@___schaeffer___</td>\n",
       "      <td>59.0</td>\n",
       "      <td>35.518352</td>\n",
       "      <td>-3.591586</td>\n",
       "      <td>M</td>\n",
       "      <td>NaN</td>\n",
       "      <td>22.0</td>\n",
       "      <td>0.0</td>\n",
       "    </tr>\n",
       "    <tr>\n",
       "      <th>3</th>\n",
       "      <td>8</td>\n",
       "      <td>9</td>\n",
       "      <td>__drewc</td>\n",
       "      <td>1.050000e+18</td>\n",
       "      <td>en</td>\n",
       "      <td>drew</td>\n",
       "      <td>New York, USA</td>\n",
       "      <td>_öÂ_öé _öÂ_ö_ _ç´Ù È \\r\\r26 #NewYork</td>\n",
       "      <td>False</td>\n",
       "      <td>27</td>\n",
       "      <td>...</td>\n",
       "      <td>http://abs.twimg.com/images/themes/theme1/bg.png</td>\n",
       "      <td>http://pbs.twimg.com/profile_images/1090809548...</td>\n",
       "      <td>@__drewc</td>\n",
       "      <td>134.0</td>\n",
       "      <td>24.910635</td>\n",
       "      <td>1.969121</td>\n",
       "      <td>F</td>\n",
       "      <td>NaN</td>\n",
       "      <td>26.0</td>\n",
       "      <td>1.0</td>\n",
       "    </tr>\n",
       "    <tr>\n",
       "      <th>4</th>\n",
       "      <td>9</td>\n",
       "      <td>10</td>\n",
       "      <td>__EmilyRice__</td>\n",
       "      <td>3.797155e+09</td>\n",
       "      <td>en</td>\n",
       "      <td>em</td>\n",
       "      <td>Marble Falls, TX</td>\n",
       "      <td>#TXST22</td>\n",
       "      <td>False</td>\n",
       "      <td>158</td>\n",
       "      <td>...</td>\n",
       "      <td>http://abs.twimg.com/images/themes/theme1/bg.png</td>\n",
       "      <td>http://pbs.twimg.com/profile_images/8415201103...</td>\n",
       "      <td>@__EmilyRice__</td>\n",
       "      <td>100.0</td>\n",
       "      <td>25.191925</td>\n",
       "      <td>2.382856</td>\n",
       "      <td>F</td>\n",
       "      <td>NaN</td>\n",
       "      <td>20.0</td>\n",
       "      <td>0.0</td>\n",
       "    </tr>\n",
       "  </tbody>\n",
       "</table>\n",
       "<p>5 rows × 26 columns</p>\n",
       "</div>"
      ],
      "text/plain": [
       "   Unnamed: 0  Unnamed: 0.1      screen_name       user_id lang  \\\n",
       "0           0             1    _____zac_____  4.614412e+08   en   \n",
       "1           1             2         ___aleia  7.650000e+17   en   \n",
       "2           3             4  ___schaeffer___  1.257110e+09   en   \n",
       "3           8             9          __drewc  1.050000e+18   en   \n",
       "4           9            10    __EmilyRice__  3.797155e+09   en   \n",
       "\n",
       "                    name          location  \\\n",
       "0                zac ¢     Maryland, USA   \n",
       "1  _æ___ dad ___æ_         Ohio, USA   \n",
       "2      Brenden Schaeffer           The Lou   \n",
       "3                   drew     New York, USA   \n",
       "4                     em  Marble Falls, TX   \n",
       "\n",
       "                                         description  protected  \\\n",
       "0                             _____Û___È_Ü´Ù      False   \n",
       "1                              BLACK. LIVES. MATTER.      False   \n",
       "2  Culver-Stockton College '20 ¢ Ô_Ô_Ô KM 1548...      False   \n",
       "3        _öÂ_öé _öÂ_ö_ _ç´Ù È \\r\\r26 #NewYork      False   \n",
       "4                                            #TXST22      False   \n",
       "\n",
       "   followers_count  ...                            profile_background_url  \\\n",
       "0              208  ...  http://abs.twimg.com/images/themes/theme1/bg.png   \n",
       "1              466  ...                                               NaN   \n",
       "2              811  ...  http://abs.twimg.com/images/themes/theme1/bg.png   \n",
       "3               27  ...  http://abs.twimg.com/images/themes/theme1/bg.png   \n",
       "4              158  ...  http://abs.twimg.com/images/themes/theme1/bg.png   \n",
       "\n",
       "                                   profile_image_url         user.name  \\\n",
       "0  http://pbs.twimg.com/profile_images/1226134911...    @_____zac_____   \n",
       "1  http://pbs.twimg.com/profile_images/1271280679...         @___aleia   \n",
       "2  http://pbs.twimg.com/profile_images/1268044218...  @___schaeffer___   \n",
       "3  http://pbs.twimg.com/profile_images/1090809548...          @__drewc   \n",
       "4  http://pbs.twimg.com/profile_images/8415201103...    @__EmilyRice__   \n",
       "\n",
       "  num.tweets.used.Lexicon.prediction  Lexicon.age.prediction  \\\n",
       "0                              100.0               27.652434   \n",
       "1                              100.0               24.111464   \n",
       "2                               59.0               35.518352   \n",
       "3                              134.0               24.910635   \n",
       "4                              100.0               25.191925   \n",
       "\n",
       "  Lexicon.gender.prediction..index. lexicon.gender.prediction  \\\n",
       "0                         -1.457167                         M   \n",
       "1                          0.985713                         F   \n",
       "2                         -3.591586                         M   \n",
       "3                          1.969121                         F   \n",
       "4                          2.382856                         F   \n",
       "\n",
       "  human.labeled.gender human.labeled.age  age  \n",
       "0                  NaN              23.0  1.0  \n",
       "1                  NaN              19.0  0.0  \n",
       "2                  NaN              22.0  0.0  \n",
       "3                  NaN              26.0  1.0  \n",
       "4                  NaN              20.0  0.0  \n",
       "\n",
       "[5 rows x 26 columns]"
      ]
     },
     "execution_count": 9,
     "metadata": {},
     "output_type": "execute_result"
    }
   ],
   "source": [
    "users_1145.head()"
   ]
  },
  {
   "cell_type": "code",
   "execution_count": 10,
   "id": "67ff0166",
   "metadata": {},
   "outputs": [
    {
     "data": {
      "text/plain": [
       "0          0\n",
       "1          1\n",
       "2          3\n",
       "3          8\n",
       "4          9\n",
       "        ... \n",
       "1140    3268\n",
       "1141    3271\n",
       "1142    3272\n",
       "1143    3274\n",
       "1144    3279\n",
       "Name: Unnamed: 0, Length: 1145, dtype: int64"
      ]
     },
     "execution_count": 10,
     "metadata": {},
     "output_type": "execute_result"
    }
   ],
   "source": [
    "users_1145[\"Unnamed: 0\"]"
   ]
  },
  {
   "cell_type": "code",
   "execution_count": 11,
   "id": "04d8437d",
   "metadata": {},
   "outputs": [],
   "source": [
    "users_1145[\"Under_21\"] = (users_1145[\"human.labeled.age\"] > 21 ).astype(int)"
   ]
  },
  {
   "cell_type": "code",
   "execution_count": 12,
   "id": "e463d6b6",
   "metadata": {
    "scrolled": true
   },
   "outputs": [
    {
     "data": {
      "text/html": [
       "<div>\n",
       "<style scoped>\n",
       "    .dataframe tbody tr th:only-of-type {\n",
       "        vertical-align: middle;\n",
       "    }\n",
       "\n",
       "    .dataframe tbody tr th {\n",
       "        vertical-align: top;\n",
       "    }\n",
       "\n",
       "    .dataframe thead th {\n",
       "        text-align: right;\n",
       "    }\n",
       "</style>\n",
       "<table border=\"1\" class=\"dataframe\">\n",
       "  <thead>\n",
       "    <tr style=\"text-align: right;\">\n",
       "      <th></th>\n",
       "      <th>Unnamed: 0</th>\n",
       "      <th>Unnamed: 0.1</th>\n",
       "      <th>screen_name</th>\n",
       "      <th>user_id</th>\n",
       "      <th>lang</th>\n",
       "      <th>name</th>\n",
       "      <th>location</th>\n",
       "      <th>description</th>\n",
       "      <th>protected</th>\n",
       "      <th>followers_count</th>\n",
       "      <th>...</th>\n",
       "      <th>profile_background_url</th>\n",
       "      <th>profile_image_url</th>\n",
       "      <th>user.name</th>\n",
       "      <th>num.tweets.used.Lexicon.prediction</th>\n",
       "      <th>Lexicon.age.prediction</th>\n",
       "      <th>Lexicon.gender.prediction..index.</th>\n",
       "      <th>lexicon.gender.prediction</th>\n",
       "      <th>human.labeled.gender</th>\n",
       "      <th>human.labeled.age</th>\n",
       "      <th>age</th>\n",
       "    </tr>\n",
       "    <tr>\n",
       "      <th>Under_21</th>\n",
       "      <th></th>\n",
       "      <th></th>\n",
       "      <th></th>\n",
       "      <th></th>\n",
       "      <th></th>\n",
       "      <th></th>\n",
       "      <th></th>\n",
       "      <th></th>\n",
       "      <th></th>\n",
       "      <th></th>\n",
       "      <th></th>\n",
       "      <th></th>\n",
       "      <th></th>\n",
       "      <th></th>\n",
       "      <th></th>\n",
       "      <th></th>\n",
       "      <th></th>\n",
       "      <th></th>\n",
       "      <th></th>\n",
       "      <th></th>\n",
       "      <th></th>\n",
       "    </tr>\n",
       "  </thead>\n",
       "  <tbody>\n",
       "    <tr>\n",
       "      <th>0</th>\n",
       "      <td>617</td>\n",
       "      <td>617</td>\n",
       "      <td>617</td>\n",
       "      <td>617</td>\n",
       "      <td>607</td>\n",
       "      <td>617</td>\n",
       "      <td>571</td>\n",
       "      <td>600</td>\n",
       "      <td>617</td>\n",
       "      <td>617</td>\n",
       "      <td>...</td>\n",
       "      <td>435</td>\n",
       "      <td>617</td>\n",
       "      <td>617</td>\n",
       "      <td>617</td>\n",
       "      <td>617</td>\n",
       "      <td>617</td>\n",
       "      <td>617</td>\n",
       "      <td>133</td>\n",
       "      <td>617</td>\n",
       "      <td>617</td>\n",
       "    </tr>\n",
       "    <tr>\n",
       "      <th>1</th>\n",
       "      <td>528</td>\n",
       "      <td>528</td>\n",
       "      <td>528</td>\n",
       "      <td>528</td>\n",
       "      <td>519</td>\n",
       "      <td>528</td>\n",
       "      <td>505</td>\n",
       "      <td>507</td>\n",
       "      <td>528</td>\n",
       "      <td>528</td>\n",
       "      <td>...</td>\n",
       "      <td>439</td>\n",
       "      <td>528</td>\n",
       "      <td>528</td>\n",
       "      <td>528</td>\n",
       "      <td>528</td>\n",
       "      <td>528</td>\n",
       "      <td>528</td>\n",
       "      <td>111</td>\n",
       "      <td>528</td>\n",
       "      <td>528</td>\n",
       "    </tr>\n",
       "  </tbody>\n",
       "</table>\n",
       "<p>2 rows × 26 columns</p>\n",
       "</div>"
      ],
      "text/plain": [
       "          Unnamed: 0  Unnamed: 0.1  screen_name  user_id  lang  name  \\\n",
       "Under_21                                                               \n",
       "0                617           617          617      617   607   617   \n",
       "1                528           528          528      528   519   528   \n",
       "\n",
       "          location  description  protected  followers_count  ...  \\\n",
       "Under_21                                                     ...   \n",
       "0              571          600        617              617  ...   \n",
       "1              505          507        528              528  ...   \n",
       "\n",
       "          profile_background_url  profile_image_url  user.name  \\\n",
       "Under_21                                                         \n",
       "0                            435                617        617   \n",
       "1                            439                528        528   \n",
       "\n",
       "          num.tweets.used.Lexicon.prediction  Lexicon.age.prediction  \\\n",
       "Under_21                                                               \n",
       "0                                        617                     617   \n",
       "1                                        528                     528   \n",
       "\n",
       "          Lexicon.gender.prediction..index.  lexicon.gender.prediction  \\\n",
       "Under_21                                                                 \n",
       "0                                       617                        617   \n",
       "1                                       528                        528   \n",
       "\n",
       "          human.labeled.gender  human.labeled.age  age  \n",
       "Under_21                                                \n",
       "0                          133                617  617  \n",
       "1                          111                528  528  \n",
       "\n",
       "[2 rows x 26 columns]"
      ]
     },
     "execution_count": 12,
     "metadata": {},
     "output_type": "execute_result"
    }
   ],
   "source": [
    "users_1145.groupby(\"Under_21\").count()"
   ]
  },
  {
   "cell_type": "code",
   "execution_count": 13,
   "id": "d9a12097",
   "metadata": {},
   "outputs": [
    {
     "name": "stdout",
     "output_type": "stream",
     "text": [
      "1145\n"
     ]
    }
   ],
   "source": [
    "list_of_screen_names = users_1145['screen_name'].unique()\n",
    "print(len(list_of_screen_names))"
   ]
  },
  {
   "cell_type": "code",
   "execution_count": 14,
   "id": "1fa0925c",
   "metadata": {},
   "outputs": [
    {
     "data": {
      "text/plain": [
       "False"
      ]
     },
     "execution_count": 14,
     "metadata": {},
     "output_type": "execute_result"
    }
   ],
   "source": [
    "'___Dals' in list_of_screen_names"
   ]
  },
  {
   "cell_type": "code",
   "execution_count": 15,
   "id": "d03657c9",
   "metadata": {},
   "outputs": [
    {
     "data": {
      "text/plain": [
       "Series([], Name: name, dtype: object)"
      ]
     },
     "execution_count": 15,
     "metadata": {},
     "output_type": "execute_result"
    }
   ],
   "source": [
    "users_1145[users_1145[\"screen_name\"]==\"___Dals\"][\"name\"]"
   ]
  },
  {
   "cell_type": "code",
   "execution_count": 16,
   "id": "6ff76f06",
   "metadata": {},
   "outputs": [
    {
     "data": {
      "text/html": [
       "<div>\n",
       "<style scoped>\n",
       "    .dataframe tbody tr th:only-of-type {\n",
       "        vertical-align: middle;\n",
       "    }\n",
       "\n",
       "    .dataframe tbody tr th {\n",
       "        vertical-align: top;\n",
       "    }\n",
       "\n",
       "    .dataframe thead th {\n",
       "        text-align: right;\n",
       "    }\n",
       "</style>\n",
       "<table border=\"1\" class=\"dataframe\">\n",
       "  <thead>\n",
       "    <tr style=\"text-align: right;\">\n",
       "      <th></th>\n",
       "      <th>Tweet</th>\n",
       "      <th>Screen Name</th>\n",
       "      <th>img_path</th>\n",
       "      <th>Under 21</th>\n",
       "    </tr>\n",
       "  </thead>\n",
       "  <tbody>\n",
       "    <tr>\n",
       "      <th>0</th>\n",
       "      <td>@AdvoBarryRoux @GetVidBot</td>\n",
       "      <td>_____zac_____</td>\n",
       "      <td>0</td>\n",
       "      <td>1</td>\n",
       "    </tr>\n",
       "    <tr>\n",
       "      <th>1</th>\n",
       "      <td>The owner of drip doesn't even have 100 mill, ...</td>\n",
       "      <td>_____zac_____</td>\n",
       "      <td>0</td>\n",
       "      <td>1</td>\n",
       "    </tr>\n",
       "    <tr>\n",
       "      <th>2</th>\n",
       "      <td>even Lekau the owner of Drip was saying that i...</td>\n",
       "      <td>_____zac_____</td>\n",
       "      <td>0</td>\n",
       "      <td>1</td>\n",
       "    </tr>\n",
       "    <tr>\n",
       "      <th>3</th>\n",
       "      <td>@casspernyovest is cappin  that \"R100m\" figure...</td>\n",
       "      <td>_____zac_____</td>\n",
       "      <td>0</td>\n",
       "      <td>1</td>\n",
       "    </tr>\n",
       "    <tr>\n",
       "      <th>4</th>\n",
       "      <td>I want a recipe from @JBscotchSA for #JBLemona...</td>\n",
       "      <td>_____zac_____</td>\n",
       "      <td>0</td>\n",
       "      <td>1</td>\n",
       "    </tr>\n",
       "    <tr>\n",
       "      <th>...</th>\n",
       "      <td>...</td>\n",
       "      <td>...</td>\n",
       "      <td>...</td>\n",
       "      <td>...</td>\n",
       "    </tr>\n",
       "    <tr>\n",
       "      <th>106309</th>\n",
       "      <td>uci fucking evil for making me go to school to...</td>\n",
       "      <td>zzzakari4</td>\n",
       "      <td>3279</td>\n",
       "      <td>0</td>\n",
       "    </tr>\n",
       "    <tr>\n",
       "      <th>106310</th>\n",
       "      <td>incredibly hot take, but i just think its funn...</td>\n",
       "      <td>zzzakari4</td>\n",
       "      <td>3279</td>\n",
       "      <td>0</td>\n",
       "    </tr>\n",
       "    <tr>\n",
       "      <th>106311</th>\n",
       "      <td>@valedesmadre u knw how i am 😫 its too much pr...</td>\n",
       "      <td>zzzakari4</td>\n",
       "      <td>3279</td>\n",
       "      <td>0</td>\n",
       "    </tr>\n",
       "    <tr>\n",
       "      <th>106312</th>\n",
       "      <td>will be needing a couple more business days to...</td>\n",
       "      <td>zzzakari4</td>\n",
       "      <td>3279</td>\n",
       "      <td>0</td>\n",
       "    </tr>\n",
       "    <tr>\n",
       "      <th>106313</th>\n",
       "      <td>its been 15 days since the final and ive final...</td>\n",
       "      <td>zzzakari4</td>\n",
       "      <td>3279</td>\n",
       "      <td>0</td>\n",
       "    </tr>\n",
       "  </tbody>\n",
       "</table>\n",
       "<p>106314 rows × 4 columns</p>\n",
       "</div>"
      ],
      "text/plain": [
       "                                                    Tweet    Screen Name  \\\n",
       "0                               @AdvoBarryRoux @GetVidBot  _____zac_____   \n",
       "1       The owner of drip doesn't even have 100 mill, ...  _____zac_____   \n",
       "2       even Lekau the owner of Drip was saying that i...  _____zac_____   \n",
       "3       @casspernyovest is cappin  that \"R100m\" figure...  _____zac_____   \n",
       "4       I want a recipe from @JBscotchSA for #JBLemona...  _____zac_____   \n",
       "...                                                   ...            ...   \n",
       "106309  uci fucking evil for making me go to school to...      zzzakari4   \n",
       "106310  incredibly hot take, but i just think its funn...      zzzakari4   \n",
       "106311  @valedesmadre u knw how i am 😫 its too much pr...      zzzakari4   \n",
       "106312  will be needing a couple more business days to...      zzzakari4   \n",
       "106313  its been 15 days since the final and ive final...      zzzakari4   \n",
       "\n",
       "        img_path  Under 21  \n",
       "0              0         1  \n",
       "1              0         1  \n",
       "2              0         1  \n",
       "3              0         1  \n",
       "4              0         1  \n",
       "...          ...       ...  \n",
       "106309      3279         0  \n",
       "106310      3279         0  \n",
       "106311      3279         0  \n",
       "106312      3279         0  \n",
       "106313      3279         0  \n",
       "\n",
       "[106314 rows x 4 columns]"
      ]
     },
     "execution_count": 16,
     "metadata": {},
     "output_type": "execute_result"
    }
   ],
   "source": [
    "ageDict = users_1145.set_index('screen_name').to_dict()['Under_21']\n",
    "imgPathDict = users_1145.set_index('screen_name').to_dict()['Unnamed: 0']\n",
    "\n",
    "tweetList, screenNameList, imgPathList, ageList = [], [], [], []\n",
    "\n",
    "for screen_name in tweets_1145:\n",
    "    \n",
    "    if((screen_name in list_of_screen_names)==False):\n",
    "        continue\n",
    "    for tweet in tweets_1145[screen_name]:\n",
    "        \n",
    "        tweetList.append(tweet)\n",
    "        \n",
    "        screenNameList.append(screen_name)\n",
    "        \n",
    "        imgPathList.append(imgPathDict[screen_name])\n",
    "        \n",
    "        ageList.append(ageDict[screen_name])\n",
    "        \n",
    "df_2 = pd.DataFrame({'Tweet': tweetList, 'Screen Name': screenNameList, 'img_path': imgPathList, 'Under 21': ageList})\n",
    "df_2.to_csv('labeled_tweet_table_Age.csv', index=False)\n",
    "df_2\n"
   ]
  },
  {
   "cell_type": "code",
   "execution_count": 17,
   "id": "b87cead8",
   "metadata": {},
   "outputs": [
    {
     "data": {
      "text/plain": [
       "106314"
      ]
     },
     "execution_count": 17,
     "metadata": {},
     "output_type": "execute_result"
    }
   ],
   "source": [
    "len(df_2)"
   ]
  },
  {
   "cell_type": "code",
   "execution_count": 18,
   "id": "f3bff32d",
   "metadata": {},
   "outputs": [
    {
     "data": {
      "text/plain": [
       "1145"
      ]
     },
     "execution_count": 18,
     "metadata": {},
     "output_type": "execute_result"
    }
   ],
   "source": [
    "len(df_2[\"Screen Name\"].unique())"
   ]
  },
  {
   "cell_type": "code",
   "execution_count": null,
   "id": "1601d61c",
   "metadata": {},
   "outputs": [],
   "source": []
  },
  {
   "cell_type": "markdown",
   "id": "9a54b1bb",
   "metadata": {},
   "source": [
    "# For Race"
   ]
  },
  {
   "cell_type": "code",
   "execution_count": 19,
   "id": "ef7ff1fb",
   "metadata": {},
   "outputs": [],
   "source": [
    "with open(\"Twitter_User_Handles_labeled_tweets.json\", encoding=\"utf8\") as file:\n",
    "    text = file.read()\n",
    "    tweets = json.loads(text)"
   ]
  },
  {
   "cell_type": "code",
   "execution_count": 20,
   "id": "c74df76b",
   "metadata": {},
   "outputs": [],
   "source": [
    "#tweets.keys()"
   ]
  },
  {
   "cell_type": "code",
   "execution_count": 21,
   "id": "958c23da",
   "metadata": {},
   "outputs": [
    {
     "data": {
      "text/plain": [
       "['YKAR, a futuristic sans serif font by @EmmeranR - #Freebie #Font #Merci https://t.co/b6fBDvz6yZ',\n",
       " '@MBonvoyAssist Who can I contact about the very rude and poor service I’m experiencing during my current stay? Please and thank you!']"
      ]
     },
     "execution_count": 21,
     "metadata": {},
     "output_type": "execute_result"
    }
   ],
   "source": [
    "tweets['12488'][:2]"
   ]
  },
  {
   "cell_type": "code",
   "execution_count": 22,
   "id": "28e73e4b",
   "metadata": {},
   "outputs": [],
   "source": [
    "with open(\"User demo profiles.json\", encoding=\"utf8\") as file:\n",
    "    text = file.read()\n",
    "    profiles = json.loads(text)"
   ]
  },
  {
   "cell_type": "code",
   "execution_count": 23,
   "id": "a1773b7c",
   "metadata": {},
   "outputs": [
    {
     "data": {
      "text/plain": [
       "[{'id': 12488,\n",
       "  'name': 'Chad Boyce',\n",
       "  'screen_name': 'djsnipa1',\n",
       "  'description': 'Multimedia Developer, Graphic Designer, DJ, and anything else you want to call me.',\n",
       "  'lang': 'NA',\n",
       "  'img_path': 'profile pics/60147.jpeg'},\n",
       " {'id': 719703,\n",
       "  'name': 'Tomato 😷',\n",
       "  'screen_name': 'Tomato',\n",
       "  'description': '🇭🇰Rise Up!',\n",
       "  'lang': 'NA',\n",
       "  'img_path': 'profile pics/60148.jpeg'}]"
      ]
     },
     "execution_count": 23,
     "metadata": {},
     "output_type": "execute_result"
    }
   ],
   "source": [
    "profiles[:2]"
   ]
  },
  {
   "cell_type": "code",
   "execution_count": 24,
   "id": "71114459",
   "metadata": {},
   "outputs": [
    {
     "data": {
      "text/plain": [
       "{'name': 'Chad Boyce',\n",
       " 'screen_name': 'djsnipa1',\n",
       " 'description': 'Multimedia Developer, Graphic Designer, DJ, and anything else you want to call me.',\n",
       " 'lang': 'NA',\n",
       " 'img_path': 'profile pics/60147.jpeg'}"
      ]
     },
     "execution_count": 24,
     "metadata": {},
     "output_type": "execute_result"
    }
   ],
   "source": [
    "profile_dict = {}\n",
    "for profile in profiles:\n",
    "    profile_dict[str(profile['id'])] = {'name': profile['name'], 'screen_name': profile['screen_name'], 'description': profile['description'], 'lang': profile['lang'], 'img_path': profile['img_path']}\n",
    "\n",
    "profile_dict['12488']"
   ]
  },
  {
   "cell_type": "code",
   "execution_count": 25,
   "id": "cd01efb3",
   "metadata": {},
   "outputs": [],
   "source": [
    "users = pd.read_csv(\"labeled_users.csv\")"
   ]
  },
  {
   "cell_type": "code",
   "execution_count": 26,
   "id": "44ea8b91",
   "metadata": {},
   "outputs": [
    {
     "name": "stdout",
     "output_type": "stream",
     "text": [
      "4132\n",
      "3609\n",
      "3276\n"
     ]
    }
   ],
   "source": [
    "print(len(users))\n",
    "print(len(profiles))\n",
    "print(len(tweets))"
   ]
  },
  {
   "cell_type": "code",
   "execution_count": 27,
   "id": "c8564eac",
   "metadata": {},
   "outputs": [
    {
     "data": {
      "text/plain": [
       "48"
      ]
     },
     "execution_count": 27,
     "metadata": {},
     "output_type": "execute_result"
    }
   ],
   "source": [
    "len(users[users[\"year_born\"].isnull()])"
   ]
  },
  {
   "cell_type": "code",
   "execution_count": 28,
   "id": "5c253a66",
   "metadata": {},
   "outputs": [],
   "source": [
    "users[\"Under 21\"] = (users[\"year_born\"] > 2000).astype(int)"
   ]
  },
  {
   "cell_type": "code",
   "execution_count": 29,
   "id": "9b4b8f68",
   "metadata": {},
   "outputs": [
    {
     "data": {
      "text/html": [
       "<div>\n",
       "<style scoped>\n",
       "    .dataframe tbody tr th:only-of-type {\n",
       "        vertical-align: middle;\n",
       "    }\n",
       "\n",
       "    .dataframe tbody tr th {\n",
       "        vertical-align: top;\n",
       "    }\n",
       "\n",
       "    .dataframe thead th {\n",
       "        text-align: right;\n",
       "    }\n",
       "</style>\n",
       "<table border=\"1\" class=\"dataframe\">\n",
       "  <thead>\n",
       "    <tr style=\"text-align: right;\">\n",
       "      <th></th>\n",
       "      <th>user_id</th>\n",
       "      <th>is_female</th>\n",
       "      <th>year_born</th>\n",
       "      <th>race</th>\n",
       "    </tr>\n",
       "    <tr>\n",
       "      <th>Under 21</th>\n",
       "      <th></th>\n",
       "      <th></th>\n",
       "      <th></th>\n",
       "      <th></th>\n",
       "    </tr>\n",
       "  </thead>\n",
       "  <tbody>\n",
       "    <tr>\n",
       "      <th>0</th>\n",
       "      <td>4110</td>\n",
       "      <td>4047</td>\n",
       "      <td>4062</td>\n",
       "      <td>4070</td>\n",
       "    </tr>\n",
       "    <tr>\n",
       "      <th>1</th>\n",
       "      <td>22</td>\n",
       "      <td>22</td>\n",
       "      <td>22</td>\n",
       "      <td>22</td>\n",
       "    </tr>\n",
       "  </tbody>\n",
       "</table>\n",
       "</div>"
      ],
      "text/plain": [
       "          user_id  is_female  year_born  race\n",
       "Under 21                                     \n",
       "0            4110       4047       4062  4070\n",
       "1              22         22         22    22"
      ]
     },
     "execution_count": 29,
     "metadata": {},
     "output_type": "execute_result"
    }
   ],
   "source": [
    "users.groupby(\"Under 21\").count()"
   ]
  },
  {
   "cell_type": "code",
   "execution_count": 30,
   "id": "83c6bc64",
   "metadata": {},
   "outputs": [
    {
     "data": {
      "text/html": [
       "<div>\n",
       "<style scoped>\n",
       "    .dataframe tbody tr th:only-of-type {\n",
       "        vertical-align: middle;\n",
       "    }\n",
       "\n",
       "    .dataframe tbody tr th {\n",
       "        vertical-align: top;\n",
       "    }\n",
       "\n",
       "    .dataframe thead th {\n",
       "        text-align: right;\n",
       "    }\n",
       "</style>\n",
       "<table border=\"1\" class=\"dataframe\">\n",
       "  <thead>\n",
       "    <tr style=\"text-align: right;\">\n",
       "      <th></th>\n",
       "      <th>Tweet</th>\n",
       "      <th>Name</th>\n",
       "      <th>Screen Name</th>\n",
       "      <th>Description</th>\n",
       "      <th>Lang</th>\n",
       "      <th>img_path</th>\n",
       "      <th>Race</th>\n",
       "    </tr>\n",
       "  </thead>\n",
       "  <tbody>\n",
       "    <tr>\n",
       "      <th>0</th>\n",
       "      <td>YKAR, a futuristic sans serif font by @Emmeran...</td>\n",
       "      <td>Chad Boyce</td>\n",
       "      <td>djsnipa1</td>\n",
       "      <td>Multimedia Developer, Graphic Designer, DJ, an...</td>\n",
       "      <td>NA</td>\n",
       "      <td>profile pics/60147.jpeg</td>\n",
       "      <td>4.0</td>\n",
       "    </tr>\n",
       "    <tr>\n",
       "      <th>1</th>\n",
       "      <td>@MBonvoyAssist Who can I contact about the ver...</td>\n",
       "      <td>Chad Boyce</td>\n",
       "      <td>djsnipa1</td>\n",
       "      <td>Multimedia Developer, Graphic Designer, DJ, an...</td>\n",
       "      <td>NA</td>\n",
       "      <td>profile pics/60147.jpeg</td>\n",
       "      <td>4.0</td>\n",
       "    </tr>\n",
       "    <tr>\n",
       "      <th>2</th>\n",
       "      <td>@SSlnes I’d like to win!</td>\n",
       "      <td>Chad Boyce</td>\n",
       "      <td>djsnipa1</td>\n",
       "      <td>Multimedia Developer, Graphic Designer, DJ, an...</td>\n",
       "      <td>NA</td>\n",
       "      <td>profile pics/60147.jpeg</td>\n",
       "      <td>4.0</td>\n",
       "    </tr>\n",
       "    <tr>\n",
       "      <th>3</th>\n",
       "      <td>@LuckyDucksNFT @Rydog</td>\n",
       "      <td>Chad Boyce</td>\n",
       "      <td>djsnipa1</td>\n",
       "      <td>Multimedia Developer, Graphic Designer, DJ, an...</td>\n",
       "      <td>NA</td>\n",
       "      <td>profile pics/60147.jpeg</td>\n",
       "      <td>4.0</td>\n",
       "    </tr>\n",
       "    <tr>\n",
       "      <th>4</th>\n",
       "      <td>Now I'm heading to B1000th Floor! #quickrogue</td>\n",
       "      <td>Chad Boyce</td>\n",
       "      <td>djsnipa1</td>\n",
       "      <td>Multimedia Developer, Graphic Designer, DJ, an...</td>\n",
       "      <td>NA</td>\n",
       "      <td>profile pics/60147.jpeg</td>\n",
       "      <td>4.0</td>\n",
       "    </tr>\n",
       "    <tr>\n",
       "      <th>...</th>\n",
       "      <td>...</td>\n",
       "      <td>...</td>\n",
       "      <td>...</td>\n",
       "      <td>...</td>\n",
       "      <td>...</td>\n",
       "      <td>...</td>\n",
       "      <td>...</td>\n",
       "    </tr>\n",
       "    <tr>\n",
       "      <th>313468</th>\n",
       "      <td>Preach it 🙌🙌 https://t.co/8xPvSZpiLb</td>\n",
       "      <td>✿♥☆✧աaʄʄʟɛ զʊɛɛռ✧☆♥✿</td>\n",
       "      <td>landry_rosalee</td>\n",
       "      <td>other acount- @furious_waffles and @i_cant_wor...</td>\n",
       "      <td>NA</td>\n",
       "      <td>profile pics/64232.jpeg</td>\n",
       "      <td>NaN</td>\n",
       "    </tr>\n",
       "    <tr>\n",
       "      <th>313469</th>\n",
       "      <td>Wut? https://t.co/FxR7WlXhDz</td>\n",
       "      <td>✿♥☆✧աaʄʄʟɛ զʊɛɛռ✧☆♥✿</td>\n",
       "      <td>landry_rosalee</td>\n",
       "      <td>other acount- @furious_waffles and @i_cant_wor...</td>\n",
       "      <td>NA</td>\n",
       "      <td>profile pics/64232.jpeg</td>\n",
       "      <td>NaN</td>\n",
       "    </tr>\n",
       "    <tr>\n",
       "      <th>313470</th>\n",
       "      <td>Im not trying to be rude, im just saying that ...</td>\n",
       "      <td>✿♥☆✧աaʄʄʟɛ զʊɛɛռ✧☆♥✿</td>\n",
       "      <td>landry_rosalee</td>\n",
       "      <td>other acount- @furious_waffles and @i_cant_wor...</td>\n",
       "      <td>NA</td>\n",
       "      <td>profile pics/64232.jpeg</td>\n",
       "      <td>NaN</td>\n",
       "    </tr>\n",
       "    <tr>\n",
       "      <th>313471</th>\n",
       "      <td>Sir, I'd like to know why you're being so rude...</td>\n",
       "      <td>✿♥☆✧աaʄʄʟɛ զʊɛɛռ✧☆♥✿</td>\n",
       "      <td>landry_rosalee</td>\n",
       "      <td>other acount- @furious_waffles and @i_cant_wor...</td>\n",
       "      <td>NA</td>\n",
       "      <td>profile pics/64232.jpeg</td>\n",
       "      <td>NaN</td>\n",
       "    </tr>\n",
       "    <tr>\n",
       "      <th>313472</th>\n",
       "      <td>As a person of the female gender, not all are ...</td>\n",
       "      <td>✿♥☆✧աaʄʄʟɛ զʊɛɛռ✧☆♥✿</td>\n",
       "      <td>landry_rosalee</td>\n",
       "      <td>other acount- @furious_waffles and @i_cant_wor...</td>\n",
       "      <td>NA</td>\n",
       "      <td>profile pics/64232.jpeg</td>\n",
       "      <td>NaN</td>\n",
       "    </tr>\n",
       "  </tbody>\n",
       "</table>\n",
       "<p>313473 rows × 7 columns</p>\n",
       "</div>"
      ],
      "text/plain": [
       "                                                    Tweet  \\\n",
       "0       YKAR, a futuristic sans serif font by @Emmeran...   \n",
       "1       @MBonvoyAssist Who can I contact about the ver...   \n",
       "2                                @SSlnes I’d like to win!   \n",
       "3                                   @LuckyDucksNFT @Rydog   \n",
       "4           Now I'm heading to B1000th Floor! #quickrogue   \n",
       "...                                                   ...   \n",
       "313468               Preach it 🙌🙌 https://t.co/8xPvSZpiLb   \n",
       "313469                       Wut? https://t.co/FxR7WlXhDz   \n",
       "313470  Im not trying to be rude, im just saying that ...   \n",
       "313471  Sir, I'd like to know why you're being so rude...   \n",
       "313472  As a person of the female gender, not all are ...   \n",
       "\n",
       "                        Name     Screen Name  \\\n",
       "0                 Chad Boyce        djsnipa1   \n",
       "1                 Chad Boyce        djsnipa1   \n",
       "2                 Chad Boyce        djsnipa1   \n",
       "3                 Chad Boyce        djsnipa1   \n",
       "4                 Chad Boyce        djsnipa1   \n",
       "...                      ...             ...   \n",
       "313468  ✿♥☆✧աaʄʄʟɛ զʊɛɛռ✧☆♥✿  landry_rosalee   \n",
       "313469  ✿♥☆✧աaʄʄʟɛ զʊɛɛռ✧☆♥✿  landry_rosalee   \n",
       "313470  ✿♥☆✧աaʄʄʟɛ զʊɛɛռ✧☆♥✿  landry_rosalee   \n",
       "313471  ✿♥☆✧աaʄʄʟɛ զʊɛɛռ✧☆♥✿  landry_rosalee   \n",
       "313472  ✿♥☆✧աaʄʄʟɛ զʊɛɛռ✧☆♥✿  landry_rosalee   \n",
       "\n",
       "                                              Description Lang  \\\n",
       "0       Multimedia Developer, Graphic Designer, DJ, an...   NA   \n",
       "1       Multimedia Developer, Graphic Designer, DJ, an...   NA   \n",
       "2       Multimedia Developer, Graphic Designer, DJ, an...   NA   \n",
       "3       Multimedia Developer, Graphic Designer, DJ, an...   NA   \n",
       "4       Multimedia Developer, Graphic Designer, DJ, an...   NA   \n",
       "...                                                   ...  ...   \n",
       "313468  other acount- @furious_waffles and @i_cant_wor...   NA   \n",
       "313469  other acount- @furious_waffles and @i_cant_wor...   NA   \n",
       "313470  other acount- @furious_waffles and @i_cant_wor...   NA   \n",
       "313471  other acount- @furious_waffles and @i_cant_wor...   NA   \n",
       "313472  other acount- @furious_waffles and @i_cant_wor...   NA   \n",
       "\n",
       "                       img_path  Race  \n",
       "0       profile pics/60147.jpeg   4.0  \n",
       "1       profile pics/60147.jpeg   4.0  \n",
       "2       profile pics/60147.jpeg   4.0  \n",
       "3       profile pics/60147.jpeg   4.0  \n",
       "4       profile pics/60147.jpeg   4.0  \n",
       "...                         ...   ...  \n",
       "313468  profile pics/64232.jpeg   NaN  \n",
       "313469  profile pics/64232.jpeg   NaN  \n",
       "313470  profile pics/64232.jpeg   NaN  \n",
       "313471  profile pics/64232.jpeg   NaN  \n",
       "313472  profile pics/64232.jpeg   NaN  \n",
       "\n",
       "[313473 rows x 7 columns]"
      ]
     },
     "execution_count": 30,
     "metadata": {},
     "output_type": "execute_result"
    }
   ],
   "source": [
    "raceDict = users.set_index('user_id').to_dict()['race']\n",
    "#ageDict = users.set_index('user_id').to_dict()['Under 21']\n",
    "\n",
    "#ageList = []\n",
    "userList, tweetList, nameList, screenNameList, descriptionList, langList, imgPathList, raceList  = [], [], [], [], [], [], [], []\n",
    "for user in tweets:\n",
    "    for tweet in tweets[user]:\n",
    "        profile = profile_dict[user]\n",
    "        name = profile['name']\n",
    "        screenName = profile['screen_name']\n",
    "        description = profile['description']\n",
    "        lang = profile['lang']\n",
    "        img_path = profile['img_path']\n",
    "        userList.append(user)\n",
    "        tweetList.append(tweet)\n",
    "        nameList.append(name)\n",
    "        descriptionList.append(description)\n",
    "        screenNameList.append(screenName)\n",
    "        langList.append(lang)\n",
    "        imgPathList.append(img_path)\n",
    "        raceList.append(raceDict[float(user)])\n",
    "        #ageList.append(ageDict[float(user)])\n",
    "df = pd.DataFrame({'User': userList, 'Tweet': tweetList, 'Name': nameList, 'Screen Name': screenNameList, 'Description': descriptionList,\n",
    "              'Lang': langList, 'img_path': imgPathList, 'Race': raceList}).drop(columns=['User']) #, 'Under 21': ageList\n",
    "df.to_csv('labeled_tweet_table_Race.csv', index=False)\n",
    "df\n"
   ]
  },
  {
   "cell_type": "code",
   "execution_count": 31,
   "id": "8cfcc578",
   "metadata": {},
   "outputs": [
    {
     "name": "stdout",
     "output_type": "stream",
     "text": [
      "3276\n"
     ]
    }
   ],
   "source": [
    "print(len(df['Screen Name'].unique()))"
   ]
  },
  {
   "cell_type": "code",
   "execution_count": null,
   "id": "4ed135e8",
   "metadata": {},
   "outputs": [],
   "source": []
  },
  {
   "cell_type": "code",
   "execution_count": null,
   "id": "a35f0fc2",
   "metadata": {},
   "outputs": [],
   "source": []
  },
  {
   "cell_type": "code",
   "execution_count": null,
   "id": "75c22d13",
   "metadata": {},
   "outputs": [],
   "source": []
  }
 ],
 "metadata": {
  "kernelspec": {
   "display_name": "Python 3",
   "language": "python",
   "name": "python3"
  },
  "language_info": {
   "codemirror_mode": {
    "name": "ipython",
    "version": 3
   },
   "file_extension": ".py",
   "mimetype": "text/x-python",
   "name": "python",
   "nbconvert_exporter": "python",
   "pygments_lexer": "ipython3",
   "version": "3.8.8"
  }
 },
 "nbformat": 4,
 "nbformat_minor": 5
}
