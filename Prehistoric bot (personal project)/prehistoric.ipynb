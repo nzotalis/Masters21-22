{
 "cells": [
  {
   "cell_type": "code",
   "execution_count": 1,
   "metadata": {},
   "outputs": [],
   "source": [
    "import requests\n",
    "import re\n",
    "from tqdm import tqdm"
   ]
  },
  {
   "cell_type": "code",
   "execution_count": 2,
   "metadata": {},
   "outputs": [],
   "source": [
    "home = requests.get(\"https://en.wikipedia.org/wiki/Lists_of_prehistoric_animals\").text"
   ]
  },
  {
   "cell_type": "code",
   "execution_count": 3,
   "metadata": {},
   "outputs": [
    {
     "name": "stderr",
     "output_type": "stream",
     "text": [
      "100%|██████████| 69/69 [00:08<00:00,  7.90it/s]\n"
     ]
    }
   ],
   "source": [
    "#href=\"/wiki/List_of_prehistoric_amphibian_genera\" title=\"List of prehistoric amphibian genera\">List of prehistoric amphibian genera</a></li>\n",
    "links = [\"https://en.wikipedia.org\" + x[:-2] for x in re.findall('/wiki/List[^ ]+ ', home) if 'prehistoric_animals' not in x]\n",
    "lists = []\n",
    "for link in tqdm(links):\n",
    "    try:\n",
    "        lists.append(requests.get(link).text)\n",
    "    except:\n",
    "        pass\n"
   ]
  },
  {
   "cell_type": "code",
   "execution_count": 17,
   "metadata": {},
   "outputs": [
    {
     "data": {
      "text/plain": [
       "18167"
      ]
     },
     "execution_count": 17,
     "metadata": {},
     "output_type": "execute_result"
    }
   ],
   "source": [
    "#<a href=\"/wiki/Abiadisaurus\" title=\"Abiadisaurus\">Abiadisaurus</a></i></li>\n",
    "animalLinks = []\n",
    "for article in lists:\n",
    "    animalLinks += [\"https://en.wikipedia.org\" + x[:-1] for x in re.findall('/wiki/[^ ]+\"', article) if 'List' not in x and 'File' not in x]\n",
    "animalLinks = set(animalLinks)\n",
    "len(animalLinks)"
   ]
  },
  {
   "cell_type": "code",
   "execution_count": 21,
   "metadata": {},
   "outputs": [
    {
     "name": "stderr",
     "output_type": "stream",
     "text": [
      "100%|██████████| 18167/18167 [1:05:25<00:00,  4.63it/s]\n"
     ]
    }
   ],
   "source": [
    "animalText = []\n",
    "for link in tqdm(animalLinks):\n",
    "    animalText.append(requests.get(link).text)"
   ]
  },
  {
   "cell_type": "code",
   "execution_count": 23,
   "metadata": {},
   "outputs": [],
   "source": [
    "import pickle\n",
    "with open(\"../../animalText.txt\", \"wb\") as file:\n",
    "    pickle.dump(animalText, file)"
   ]
  },
  {
   "cell_type": "code",
   "execution_count": 24,
   "metadata": {},
   "outputs": [
    {
     "data": {
      "text/plain": [
       "18167"
      ]
     },
     "execution_count": 24,
     "metadata": {},
     "output_type": "execute_result"
    }
   ],
   "source": [
    "len(animalText)"
   ]
  },
  {
   "cell_type": "code",
   "execution_count": 32,
   "metadata": {},
   "outputs": [
    {
     "data": {
      "text/plain": [
       "1981"
      ]
     },
     "execution_count": 32,
     "metadata": {},
     "output_type": "execute_result"
    }
   ],
   "source": [
    "validLinks = []\n",
    "for i, link in enumerate(animalLinks):\n",
    "    text = animalText[i]\n",
    "    if \"You can help Wikipedia by\" in text:\n",
    "        continue\n",
    "    if \"Kingdom\" not in text or \"Phylum\" not in text or \"Clade\" not in text or \"Family\" not in text or \"Genus\" not in text or \"Species\" not in text:\n",
    "        continue\n",
    "    validLinks.append(link)\n",
    "len(validLinks)"
   ]
  },
  {
   "cell_type": "code",
   "execution_count": 34,
   "metadata": {},
   "outputs": [],
   "source": [
    "with open(\"AnimalLinks.txt\", \"wb\") as file:\n",
    "    pickle.dump(validLinks, file)"
   ]
  }
 ],
 "metadata": {
  "interpreter": {
   "hash": "366e7b2b8438dc641c25f3da28eaed90eec25ccf2b5eb1d020570a4ecc640efc"
  },
  "kernelspec": {
   "display_name": "Python 3.8.11 ('base')",
   "language": "python",
   "name": "python3"
  },
  "language_info": {
   "codemirror_mode": {
    "name": "ipython",
    "version": 3
   },
   "file_extension": ".py",
   "mimetype": "text/x-python",
   "name": "python",
   "nbconvert_exporter": "python",
   "pygments_lexer": "ipython3",
   "version": "3.8.11"
  },
  "orig_nbformat": 4
 },
 "nbformat": 4,
 "nbformat_minor": 2
}
