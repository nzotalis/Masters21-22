{
 "cells": [
  {
   "cell_type": "markdown",
   "metadata": {
    "id": "H3MK4lUvEMUx"
   },
   "source": [
    "# CS585 Problem Set 4 (Total points: 35 + 5 bonus)\n",
    "\n",
    "Assignment adapted from Svetlana Lazebnik\n",
    "\n",
    "### Instructions\n",
    "\n",
    "1.  Assignment is due at **5 PM on Tuesday Mar 29 2022**.\n",
    "\n",
    "2.  Submission instructions:\n",
    "\n",
    "    1.  A single `.pdf` report that contains your work for Q1, Q2, Q3, and\n",
    "        Q4. For Q1 you can either type out your responses in LaTeX, or\n",
    "        any other word processing software.  You can also hand write them on a\n",
    "        tablet, or scan in hand-written answers. If you hand-write, please make\n",
    "        sure they are neat and legible. If you are scanning, make sure that the\n",
    "        scans are legible. Lastly, convert your work into a `PDF`. \n",
    "\n",
    "        For Q2, Q3, and Q4 your response should be electronic (no handwritten\n",
    "        responses allowed). You should respond to the questions Q2, Q3, and Q4\n",
    "        individually and include images as necessary. Your response to all \n",
    "        questions in the PDF report should be self-contained. It should include\n",
    "        all the output you want us to look at. You will not receive credit for \n",
    "        any results you have obtained, but failed to include directly in the PDF\n",
    "        report file. \n",
    "\n",
    "        PDF file should be submitted to\n",
    "        [Gradescope](https://www.gradescope.com) under `PS4`. Please tag the reponses in your PDF with the Gradescope\n",
    "        questions outline  as described in\n",
    "        [Submitting an Assignment](https://youtu.be/u-pK4GzpId0). \n",
    "\n",
    "    2.  You also need to submit code for Q2, Q3, and Q4 in the form of a single\n",
    "        `.zip` file that includes all your code, all in the same\n",
    "        directory. You can submit Python code in\n",
    "        `.ipynb` format. Code should also be submitted to\n",
    "        [Gradescope](https://www.gradescope.com) under `PS4-Code`. \n",
    "        *Not submitting your code will lead to a loss of\n",
    "        100% of the points on Q2, Q3, and Q4.*\n",
    "\n",
    "    3.  We reserve the right to take off points for not following\n",
    "        submission instructions. In particular, please tag the reponses\n",
    "        in your PDF with the Gradescope questions outline as described\n",
    "        in [Submitting an Assignment](https://youtu.be/u-pK4GzpId0). \n",
    "\n"
   ]
  },
  {
   "cell_type": "markdown",
   "metadata": {
    "id": "br6dFiogSiOB"
   },
   "source": [
    "### Problems\n",
    "\n",
    "1. **Optical Flow [10 pts, 3 parts]**\n",
    "\n",
    "  1. **[2 pts]** Describe a scenario where the object is not moving but the optical flow field is not zero.\n",
    "\n",
    "  2. **[3 pts]** The Constant Brightness Assumption (CBA) is used in the Lucas and Kanade Algorithm. Describe how the algorithm could be adjusted to handle the fact that the assumption might be violated.\n",
    "\n",
    "  5. **[5 pts]** Why does the first order talor series provide a reasonable approximation for estimating optical flow?"
   ]
  },
  {
   "cell_type": "markdown",
   "metadata": {
    "id": "RFJ1lDtMYAmP"
   },
   "source": [
    "2. **Camera Calibration [10 pts]**. For the pair of images in the folder `calibraion`, calculate the camera projection matrices by using 2D matches in both views and 3D point\n",
    "coordinates in `lab_3d.txt`. Once you have computed your projection matrices,\n",
    "you can evaluate them using the provided evaluation function\n",
    "(evaluate_points). The function outputs the projected 2-D points and\n",
    "residual error. Report the estimated 3 × 4 camera projection matrices (for\n",
    "each image), and residual error.\n",
    "<b>Hint:</b> The residual error should be < 20 and the squared distance of the\n",
    "projected 2D points from actual 2D points should be < 4.\n",
    "\n"
   ]
  },
  {
   "cell_type": "code",
   "execution_count": 1,
   "metadata": {
    "colab": {
     "base_uri": "https://localhost:8080/"
    },
    "id": "RhgImKtQH5AA",
    "outputId": "18abe62e-b926-40f3-e47f-cb62ec6793f1"
   },
   "outputs": [
    {
     "name": "stdout",
     "output_type": "stream",
     "text": [
      "lab 1 camera projection\n",
      "[[ 3.09963781e-03  1.46206985e-04 -4.48502644e-04 -9.78930624e-01]\n",
      " [ 3.07018392e-04  6.37194274e-04 -2.77356105e-03 -2.04144664e-01]\n",
      " [ 1.67933458e-06  2.74767796e-06 -6.83970171e-07 -1.32882925e-03]]\n",
      "\n",
      "lab 2 camera projection\n",
      "[[ 6.93154111e-03 -4.01683849e-03 -1.32603329e-03 -8.26700612e-01]\n",
      " [ 1.54768631e-03  1.02452783e-03 -7.27440248e-03 -5.62523170e-01]\n",
      " [ 7.60945430e-06  3.70953989e-06 -1.90203701e-06 -3.38807512e-03]]\n",
      "residuals between the observed 2D points and the projected 3D points:\n",
      "residual in lab1: 13.545700151863898\n",
      "residual in lab2: 15.544918932028565\n"
     ]
    }
   ],
   "source": [
    "from PIL import Image\n",
    "import numpy as np\n",
    "import matplotlib.pyplot as plt\n",
    "\n",
    "def evaluate_points(M, points_2d, points_3d):\n",
    "    \"\"\"\n",
    "    Visualize the actual 2D points and the projected 2D points calculated from\n",
    "    the projection matrix\n",
    "    You do not need to modify anything in this function, although you can if you\n",
    "    want to\n",
    "    :param M: projection matrix 3 x 4\n",
    "    :param points_2d: 2D points N x 2\n",
    "    :param points_3d: 3D points N x 3\n",
    "    :return:\n",
    "    \"\"\"\n",
    "    N = len(points_3d)\n",
    "    points_3d = np.hstack((points_3d, np.ones((N, 1))))\n",
    "    points_3d_proj = np.dot(M, points_3d.T).T\n",
    "    u = points_3d_proj[:, 0] / points_3d_proj[:, 2]\n",
    "    v = points_3d_proj[:, 1] / points_3d_proj[:, 2]\n",
    "    residual = np.sum(np.hypot(u-points_2d[:, 0], v-points_2d[:, 1]))\n",
    "    points_3d_proj = np.hstack((u[:, np.newaxis], v[:, np.newaxis]))\n",
    "    return points_3d_proj, residual\n",
    "\n",
    "# Write your code here for camera calibration\n",
    "def camera_calibration(pts_2d, pts_3d):\n",
    "    \"\"\"\n",
    "    write your code to compute camera matrix\n",
    "    \"\"\"\n",
    "    # <YOUR CODE>\n",
    "    A = []\n",
    "    for i in range(len(pts_3d)):\n",
    "        u, v = pts_2d[i][0], pts_2d[i][1]\n",
    "        x, y, z = pts_3d[i][0], pts_3d[i][1], pts_3d[i][2]\n",
    "        row1 = [x, y, z, 1, 0, 0, 0, 0, -u*x, -u*y, -u*z, -u]\n",
    "        row2 = [0, 0, 0, 0, x, y, z, 1, -v*x, -v*y, -v*z, -v]\n",
    "        A.append(row1)\n",
    "        A.append(row2)\n",
    "    A = np.array(A)\n",
    "    eig_vals, eig_vecs = np.linalg.eig(A.T @ A)\n",
    "    p = eig_vecs[:, np.argmin(eig_vals)]\n",
    "    P = np.vstack((p[:4], p[4:8], p[8:]))\n",
    "        \n",
    "    return P\n",
    "        \n",
    "\n",
    "\n",
    "# Load 3D points, and their corresponding locations in \n",
    "# the two images.\n",
    "pts_3d = np.loadtxt('calibration/lab_3d.txt')\n",
    "matches = np.loadtxt('calibration/lab_matches.txt')\n",
    "\n",
    "# print lab camera projection matrices:\n",
    "lab1_proj = camera_calibration(matches[:, :2], pts_3d)\n",
    "lab2_proj = camera_calibration(matches[:, 2:], pts_3d)\n",
    "print('lab 1 camera projection')\n",
    "print(lab1_proj)\n",
    "\n",
    "print('')\n",
    "print('lab 2 camera projection')\n",
    "print(lab2_proj)\n",
    "\n",
    "# evaluate the residuals for both estimated cameras\n",
    "_, lab1_res = evaluate_points(lab1_proj, matches[:, :2], pts_3d)\n",
    "print('residuals between the observed 2D points and the projected 3D points:')\n",
    "print('residual in lab1:', lab1_res)\n",
    "_, lab2_res = evaluate_points(lab2_proj, matches[:, 2:], pts_3d)\n",
    "print('residual in lab2:', lab2_res)"
   ]
  },
  {
   "cell_type": "markdown",
   "metadata": {
    "id": "wfgEYsBodami"
   },
   "source": [
    "3. **Camera Centers [5 pts].** Calculate the camera centers using the\n",
    "estimated or provided projection matrices. Report the 3D\n",
    "locations of both cameras in your report. <b>Hint:</b> Recall that the\n",
    "camera center is given by the null space of the camera matrix.\n",
    "\n"
   ]
  },
  {
   "cell_type": "code",
   "execution_count": 2,
   "metadata": {
    "colab": {
     "base_uri": "https://localhost:8080/"
    },
    "id": "UYZrk3AIdj2B",
    "outputId": "0a21ed0e-28d0-4c3f-dac8-fb5b064d37bb"
   },
   "outputs": [
    {
     "name": "stdout",
     "output_type": "stream",
     "text": [
      "lab1 camera center [[0.7072697 ]\n",
      " [0.70349616]\n",
      " [0.06969489]\n",
      " [0.0023126 ]]\n",
      "lab2 camera center [[0.70061827]\n",
      " [0.71005902]\n",
      " [0.07031994]\n",
      " [0.00231151]]\n"
     ]
    }
   ],
   "source": [
    "import scipy.linalg\n",
    "# Write your code here for computing camera centers\n",
    "def calc_camera_center(proj):\n",
    "    \"\"\"\n",
    "    write your code to get camera center in the world \n",
    "    from the projection matrix\n",
    "    \"\"\"\n",
    "    # <YOUR CODE>\n",
    "    return scipy.linalg.null_space(proj)\n",
    "  \n",
    "    \n",
    "\n",
    "# <YOUR CODE> compute the camera centers using \n",
    "# the projection matrices\n",
    "lab1_c = calc_camera_center(lab1_proj)\n",
    "lab2_c = calc_camera_center(lab2_proj)\n",
    "print('lab1 camera center', lab1_c)\n",
    "print('lab2 camera center', lab2_c)\n",
    "lab1_c = lab1_c.T/lab1_c[-1]\n",
    "lab2_c = lab2_c.T/lab2_c[-1]"
   ]
  },
  {
   "cell_type": "markdown",
   "metadata": {
    "id": "bZXxpu9CdkLj"
   },
   "source": [
    "4. **Triangulation [10 pts].** Use linear least squares to triangulate the\n",
    "3D position of each matching pair of 2D points using the two camera\n",
    "projection matrices. As a sanity check, your triangulated 3D points for the\n",
    "lab pair should match very closely the originally provided 3D points in\n",
    "`lab_3d.txt`. Display the two camera centers and\n",
    "reconstructed points in 3D. Include snapshots of this visualization in your\n",
    "report. Also report the residuals between the observed 2D points and the\n",
    "projected 3D points in the two images. Note: You do not\n",
    "need the camera centers to solve the triangulation problem. They are used\n",
    "just for the visualization.\n",
    "\n"
   ]
  },
  {
   "cell_type": "code",
   "execution_count": 3,
   "metadata": {
    "id": "mHurpEjPdtx4"
   },
   "outputs": [
    {
     "name": "stdout",
     "output_type": "stream",
     "text": [
      "Mean 3D reconstuction error for the lab data:  0.00492\n",
      "2D reprojection error for the lab 1 data:  10.899312973796714\n",
      "2D reprojection error for the lab 2 data:  1.5485007284731922\n"
     ]
    },
    {
     "data": {
      "text/plain": [
       "<matplotlib.legend.Legend at 0x1b6286a16d0>"
      ]
     },
     "execution_count": 3,
     "metadata": {},
     "output_type": "execute_result"
    },
    {
     "data": {
      "image/png": "[encoded data removed]",
      "text/plain": [
       "<Figure size 432x288 with 1 Axes>"
      ]
     },
     "metadata": {
      "needs_background": "light"
     },
     "output_type": "display_data"
    }
   ],
   "source": [
    "# Write your code here for triangulation\n",
    "from mpl_toolkits.mplot3d import Axes3D\n",
    "def triangulation(lab_pt1, lab1_proj, lab_pt2, lab2_proj):\n",
    "    \"\"\"\n",
    "    write your code to triangulate the points in 3D\n",
    "    \"\"\"\n",
    "    # <YOUR CODE>\n",
    "    reconst_points = []\n",
    "    for i in range(len(lab_pt1)):\n",
    "        x, y = lab_pt1[i][0], lab_pt1[i][1]\n",
    "        x_prime, y_prime = lab_pt2[i][0], lab_pt2[i][1]\n",
    "        p1, p2 = lab1_proj, lab2_proj\n",
    "        A = np.vstack((y * p1[2] - p1[1], p1[0] - x * p1[2], \n",
    "                       y_prime * p2[2] - p2[1], p2[0] - x_prime * p2[2]))\n",
    "        eig_vals, eig_vecs = np.linalg.eig(A.T @ A)\n",
    "        v = eig_vecs[:, np.argmin(eig_vals)]\n",
    "        v = v / v[3]\n",
    "        reconst_points.append(v[:3])\n",
    "    return np.array(reconst_points)\n",
    "\n",
    "def evaluate_points_3d(points_3d_lab, points_3d_gt):\n",
    "    \"\"\"\n",
    "    write your code to evaluate the triangulated 3D points\n",
    "    \"\"\"\n",
    "    # <YOUR CODE>\n",
    "    return np.sum((points_3d_lab - points_3d_gt) ** 2)\n",
    "\n",
    "# triangulate the 3D point cloud for the lab data \n",
    "matches_lab = np.loadtxt('calibration/lab_matches.txt')\n",
    "lab_pt1 = matches_lab[:,:2]\n",
    "lab_pt2 = matches_lab[:,2:]\n",
    "points_3d_gt = np.loadtxt('calibration/lab_3d.txt')\n",
    "points_3d_lab = triangulation(lab_pt1, lab1_proj, lab_pt2, lab2_proj)\n",
    "res_3d_lab = evaluate_points_3d(points_3d_lab, points_3d_gt) \n",
    "print('Mean 3D reconstuction error for the lab data: ', round(np.mean(res_3d_lab), 5))\n",
    "_, res_2d_lab1 = evaluate_points(lab1_proj, lab_pt1, points_3d_lab)\n",
    "_, res_2d_lab2 = evaluate_points(lab2_proj, lab_pt2, points_3d_lab)\n",
    "print('2D reprojection error for the lab 1 data: ', np.mean(res_2d_lab1))\n",
    "print('2D reprojection error for the lab 2 data: ', np.mean(res_2d_lab2))\n",
    "# visualization of lab point cloud\n",
    "camera_centers = np.vstack((lab1_c, lab2_c))\n",
    "fig = plt.figure()\n",
    "ax = fig.add_subplot(111, projection='3d')\n",
    "ax.scatter(points_3d_lab[:, 0], points_3d_lab[:, 1], points_3d_lab[:, 2], c='b', label='Points')\n",
    "ax.scatter(camera_centers[:, 0], camera_centers[:, 1], camera_centers[:, 2], c='g', s=50, marker='^', label='Camera Centers')\n",
    "ax.legend(loc='best')"
   ]
  },
  {
   "cell_type": "markdown",
   "metadata": {
    "id": "-wg_1uFOdxN6"
   },
   "source": [
    "5. **Extra Credits [5 pts].** Use the putative match generation and RANSAC\n",
    "code from `PS3` to estimate fundamental matrices without\n",
    "ground-truth matches. For this part, only use the normalized algorithm.\n",
    "Report the number of inliers and the average residual for the inliers.\n",
    "Compare the quality of the result with the one you get from ground-truth\n",
    "matches.\n",
    "\n"
   ]
  },
  {
   "cell_type": "code",
   "execution_count": null,
   "metadata": {
    "id": "yG5StgXidxwR"
   },
   "outputs": [],
   "source": []
  }
 ],
 "metadata": {
  "colab": {
   "name": "ps4.ipynb",
   "provenance": []
  },
  "kernelspec": {
   "display_name": "Python 3 (ipykernel)",
   "language": "python",
   "name": "python3"
  },
  "language_info": {
   "codemirror_mode": {
    "name": "ipython",
    "version": 3
   },
   "file_extension": ".py",
   "mimetype": "text/x-python",
   "name": "python",
   "nbconvert_exporter": "python",
   "pygments_lexer": "ipython3",
   "version": "3.8.11"
  }
 },
 "nbformat": 4,
 "nbformat_minor": 4
}
