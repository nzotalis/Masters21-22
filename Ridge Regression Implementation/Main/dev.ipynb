{
 "cells": [
  {
   "cell_type": "code",
   "execution_count": 1,
   "metadata": {},
   "outputs": [],
   "source": [
    "#Permitted imports\n",
    "import numpy as np\n",
    "from pandas import read_csv"
   ]
  },
  {
   "cell_type": "code",
   "execution_count": 2,
   "metadata": {},
   "outputs": [],
   "source": [
    "#Packages for testing purposes\n",
    "from sklearn.linear_model import Ridge, Lasso, ElasticNet\n",
    "from sklearn.metrics import mean_squared_error\n",
    "from sklearn import preprocessing\n",
    "from sklearn.decomposition import PCA\n",
    "from sklearn import feature_selection"
   ]
  },
  {
   "cell_type": "code",
   "execution_count": 3,
   "metadata": {},
   "outputs": [
    {
     "name": "stdout",
     "output_type": "stream",
     "text": [
      "(29985, 764) (9996, 764)\n",
      "(29985, 11477) (9996, 11477)\n",
      "[[ 1.00000000e+00  1.00000000e+00 -9.46479754e-01 ...  4.61315145e-01\n",
      "  -6.85219388e-02  1.01779795e-02]\n",
      " [ 1.00000000e+00  1.00000000e+00 -2.46994064e+00 ...  3.21441579e-01\n",
      "  -1.03116681e-01  3.30792609e-02]\n",
      " [ 1.00000000e+00  1.00000000e+00 -4.67810293e+00 ...  8.73733592e-04\n",
      "   1.51515052e-02  2.62743830e-01]\n",
      " ...\n",
      " [ 1.00000000e+00  1.00000000e+00 -2.10845675e+00 ...  8.95873203e-03\n",
      "  -1.19750049e-01  1.60068123e+00]\n",
      " [ 1.00000000e+00  1.00000000e+00 -3.22957301e+00 ...  2.94355859e-01\n",
      "   1.30163975e-01  5.75584278e-02]\n",
      " [ 1.00000000e+00  1.00000000e+00  5.63154080e+00 ...  1.85525454e-01\n",
      "   1.99909703e-01  2.15409199e-01]]\n"
     ]
    }
   ],
   "source": [
    "train_data = read_csv(\"../Data/data_cleaned_train_comments_X.csv\")\n",
    "train_y = read_csv(\"../Data/data_cleaned_train_y.csv\")\n",
    "val_data = read_csv(\"../Data/data_cleaned_val_comments_X.csv\")\n",
    "val_y = read_csv(\"../Data/data_cleaned_val_y.csv\")\n",
    "\n",
    "print(train_data.shape, val_data.shape)\n",
    "\n",
    "scaler = preprocessing.StandardScaler()\n",
    "train_data = scaler.fit_transform(train_data)\n",
    "val_data = scaler.fit_transform(val_data)\n",
    "\n",
    "poly = preprocessing.PolynomialFeatures(degree=2)\n",
    "pca = PCA(n_components=150)\n",
    "best_features = pca.fit_transform(train_data)\n",
    "train_data = poly.fit_transform(best_features)\n",
    "#train_data = np.hstack((train_data, best_features))\n",
    "best_features = pca.fit_transform(val_data)\n",
    "val_data = poly.fit_transform(best_features)\n",
    "#val_data = np.hstack((val_data, best_features))\n",
    "\n",
    "train_ones = np.ones((train_data.shape[0], 1))\n",
    "train_data = np.hstack((train_ones, train_data))\n",
    "val_ones = np.ones((val_data.shape[0], 1))\n",
    "val_data = np.hstack((val_ones, val_data))\n",
    "\n",
    "print(train_data.shape, val_data.shape)\n",
    "print(train_data)\n"
   ]
  },
  {
   "cell_type": "code",
   "execution_count": 4,
   "metadata": {},
   "outputs": [
    {
     "name": "stdout",
     "output_type": "stream",
     "text": [
      "341.10740129731573\n"
     ]
    }
   ],
   "source": [
    "from sklearn.model_selection import train_test_split\n",
    "\n",
    "model = Ridge(5)\n",
    "#model = ElasticNet(.01)\n",
    "acc = 0\n",
    "for i in range(5):\n",
    "    x_train, x_test, y_train, y_test = train_test_split(train_data, train_y, test_size=.25)\n",
    "    model.fit(x_train, y_train)\n",
    "    acc += mean_squared_error(model.predict(x_test), y_test)\n",
    "\n",
    "print(acc / 5)  \n"
   ]
  },
  {
   "cell_type": "code",
   "execution_count": 11,
   "metadata": {},
   "outputs": [
    {
     "data": {
      "text/plain": [
       "0.40684148070423476"
      ]
     },
     "execution_count": 11,
     "metadata": {},
     "output_type": "execute_result"
    }
   ],
   "source": [
    "model = Ridge(1000000)\n",
    "model.fit(train_data, train_y)\n",
    "mean_squared_error(model.predict(val_data), val_y)"
   ]
  }
 ],
 "metadata": {
  "interpreter": {
   "hash": "366e7b2b8438dc641c25f3da28eaed90eec25ccf2b5eb1d020570a4ecc640efc"
  },
  "kernelspec": {
   "display_name": "Python 3.8.11 64-bit ('base': conda)",
   "language": "python",
   "name": "python3"
  },
  "language_info": {
   "codemirror_mode": {
    "name": "ipython",
    "version": 3
   },
   "file_extension": ".py",
   "mimetype": "text/x-python",
   "name": "python",
   "nbconvert_exporter": "python",
   "pygments_lexer": "ipython3",
   "version": "3.8.11"
  },
  "orig_nbformat": 4
 },
 "nbformat": 4,
 "nbformat_minor": 2
}
